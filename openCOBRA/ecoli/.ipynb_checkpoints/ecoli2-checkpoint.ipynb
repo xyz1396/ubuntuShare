{
 "cells": [
  {
   "cell_type": "markdown",
   "metadata": {},
   "source": [
    "# Ecoli demo\n",
    "\n",
    "[biomodels database](https://www.ebi.ac.uk/biomodels/)\n",
    "\n",
    "The unit of flux: mmol/h/gDW"
   ]
  },
  {
   "cell_type": "markdown",
   "metadata": {},
   "source": [
    "## flux balance analysis (FBA)"
   ]
  },
  {
   "cell_type": "code",
   "execution_count": 1,
   "metadata": {},
   "outputs": [
    {
     "output_type": "display_data",
     "data": {
      "text/plain": "<Model iJO1366 at 0x7f9c4574e910>",
      "text/html": "\n        <table>\n            <tr>\n                <td><strong>Name</strong></td>\n                <td>iJO1366</td>\n            </tr><tr>\n                <td><strong>Memory address</strong></td>\n                <td>0x07f9c4574e910</td>\n            </tr><tr>\n                <td><strong>Number of metabolites</strong></td>\n                <td>1805</td>\n            </tr><tr>\n                <td><strong>Number of reactions</strong></td>\n                <td>2583</td>\n            </tr><tr>\n                <td><strong>Number of groups</strong></td>\n                <td>37</td>\n            </tr><tr>\n                <td><strong>Objective expression</strong></td>\n                <td>1.0*BIOMASS_Ec_iJO1366_core_53p95M - 1.0*BIOMASS_Ec_iJO1366_core_53p95M_reverse_5c8b1</td>\n            </tr><tr>\n                <td><strong>Compartments</strong></td>\n                <td>cytosol, extracellular space, periplasm</td>\n            </tr>\n          </table>"
     },
     "metadata": {}
    }
   ],
   "source": [
    "# import model\n",
    "import cobra.test\n",
    "model=cobra.test.create_test_model(\"ecoli\")\n",
    "display(model)"
   ]
  },
  {
   "cell_type": "code",
   "execution_count": 2,
   "metadata": {
    "tags": []
   },
   "outputs": [
    {
     "output_type": "stream",
     "name": "stdout",
     "text": "all__D_c:D-Allose\nfru_c:D-Fructose\ngal_c:D-Galactose\nglc__D_c:D-Glucose\ninost_c:Myo-Inositol\nman_c:D-Mannose\nall__D_e:D-Allose\nfru_e:D-Fructose\ngal_e:D-Galactose\ngal_bD_e:Beta D-Galactose\nglc__D_e:D-Glucose\ninost_e:Myo-Inositol\nman_e:D-Mannose\nall__D_p:D-Allose\nfru_p:D-Fructose\ngal_p:D-Galactose\ngal_bD_p:Beta D-Galactose\nglc__D_p:D-Glucose\ninost_p:Myo-Inositol\nman_p:D-Mannose\n"
    }
   ],
   "source": [
    "# search metabolites: glucose and its isomers\n",
    "for x in model.metabolites:\n",
    "    if x.formula == \"C6H12O6\":\n",
    "        print(x.id,\":\",x.name,sep=\"\")"
   ]
  },
  {
   "cell_type": "code",
   "execution_count": 3,
   "metadata": {
    "tags": []
   },
   "outputs": [
    {
     "output_type": "display_data",
     "data": {
      "text/plain": "<Reaction PGI at 0x7f9c93d9b650>",
      "text/html": "\n        <table>\n            <tr>\n                <td><strong>Reaction identifier</strong></td><td>PGI</td>\n            </tr><tr>\n                <td><strong>Name</strong></td><td>Glucose-6-phosphate isomerase</td>\n            </tr><tr>\n                <td><strong>Memory address</strong></td>\n                <td>0x07f9c93d9b650</td>\n            </tr><tr>\n                <td><strong>Stoichiometry</strong></td>\n                <td>\n                    <p style='text-align:right'>g6p_c <=> f6p_c</p>\n                    <p style='text-align:right'>D-Glucose 6-phosphate <=> D-Fructose 6-phosphate</p>\n                </td>\n            </tr><tr>\n                <td><strong>GPR</strong></td><td>b4025</td>\n            </tr><tr>\n                <td><strong>Lower bound</strong></td><td>-1000.0</td>\n            </tr><tr>\n                <td><strong>Upper bound</strong></td><td>1000.0</td>\n            </tr>\n        </table>\n        "
     },
     "metadata": {}
    }
   ],
   "source": [
    "# PGI reaction: converts D-glucose 6-phosphate into D-fructose 6-phosphate\n",
    "pgi = model.reactions.get_by_id(\"PGI\")\n",
    "display(pgi)\n"
   ]
  },
  {
   "cell_type": "code",
   "execution_count": 4,
   "metadata": {
    "tags": []
   },
   "outputs": [
    {
     "output_type": "stream",
     "name": "stdout",
     "text": "GLCATr | D-glucose O-acetyltransferase | accoa_c + glc__D_c <=> acglc__D_c + coa_c\nHEX1 | Hexokinase (D-glucose:ATP) | atp_c + glc__D_c --> adp_c + g6p_c + h_c\nXYLI2 | Xylose isomerase | glc__D_c <=> fru_c\n"
    }
   ],
   "source": [
    "# search reactions involving glucose\n",
    "glucose = model.metabolites.get_by_id(\"glc__D_c\")\n",
    "for r in model.reactions:\n",
    "    if glucose in r.reactants:\n",
    "        print(r.id,\"|\",r.name,\"|\",r.build_reaction_string())"
   ]
  },
  {
   "cell_type": "code",
   "execution_count": 5,
   "metadata": {
    "tags": []
   },
   "outputs": [
    {
     "output_type": "execute_result",
     "data": {
      "text/plain": "'1.0*BIOMASS_Ec_iJO1366_core_53p95M - 1.0*BIOMASS_Ec_iJO1366_core_53p95M_reverse_5c8b1'"
     },
     "metadata": {},
     "execution_count": 5
    }
   ],
   "source": [
    "# The objective function of E.coli\n",
    "model.objective.expression.__str__()"
   ]
  },
  {
   "cell_type": "code",
   "execution_count": 6,
   "metadata": {
    "tags": []
   },
   "outputs": [
    {
     "output_type": "stream",
     "name": "stdout",
     "text": "BIOMASS_Ec_iJO1366_core_53p95M: 0.000223 10fthf_c + 2.6e-05 2fe2s_c + 0.000223 2ohph_c + 0.00026 4fe4s_c + 0.513689 ala__L_c + 0.000223 amet_c + 0.295792 arg__L_c + 0.241055 asn__L_c + 0.241055 asp__L_c + 54.124831 atp_c + 0.000122 bmocogdp_c + 2e-06 btn_c + 0.005205 ca2_c + 0.005205 cl_c + 0.000576 coa_c + 2.5e-05 cobalt2_c + 0.133508 ctp_c + 0.000709 cu2_c + 0.09158 cys__L_c + 0.026166 datp_c + 0.027017 dctp_c + 0.027017 dgtp_c + 0.026166 dttp_c + 0.000223 fad_c + 0.006715 fe2_c + 0.007808 fe3_c + 0.26316 gln__L_c + 0.26316 glu__L_c + 0.612638 gly_c + 0.215096 gtp_c + 48.601527 h2o_c + 0.094738 his__L_c + 0.290529 ile__L_c + 0.195193 k_c + 0.019456 kdo2lipid4_e + 0.450531 leu__L_c + 0.343161 lys__L_c + 0.153686 met__L_c + 0.008675 mg2_c + 0.000223 mlthf_c + 0.000691 mn2_c + 7e-06 mobd_c + 0.013894 murein5px4p_p + 0.001831 nad_c + 0.000447 nadp_c + 0.013013 nh4_c + 0.000323 ni2_c + 0.017868 pe160_c + 0.045946 pe160_p + 0.054154 pe161_c + 0.02106 pe161_p + 0.185265 phe__L_c + 0.000223 pheme_c + 0.221055 pro__L_c + 0.000223 pydx5p_c + 0.000223 ribflv_c + 0.215792 ser__L_c + 0.000223 sheme_c + 0.004338 so4_c + 0.000223 thf_c + 0.000223 thmpp_c + 0.253687 thr__L_c + 0.056843 trp__L_c + 0.137896 tyr__L_c + 5.5e-05 udcpdp_c + 0.144104 utp_c + 0.423162 val__L_c + 0.000341 zn2_c --> 53.95 adp_c + 53.95 h_c + 53.945662 pi_c + 0.773903 ppi_c\n"
    }
   ],
   "source": [
    "print(model.reactions.get_by_id('BIOMASS_Ec_iJO1366_core_53p95M'))"
   ]
  },
  {
   "cell_type": "code",
   "execution_count": 7,
   "metadata": {
    "tags": []
   },
   "outputs": [
    {
     "output_type": "execute_result",
     "data": {
      "text/plain": "<cobra.core.summary.model_summary.ModelSummary at 0x7f9ca913b110>",
      "text/html": "<div>\n<style scoped>\n    .dataframe tbody tr th:only-of-type {\n        vertical-align: middle;\n    }\n\n    .dataframe tbody tr th {\n        vertical-align: top;\n    }\n\n    .dataframe thead tr th {\n        text-align: left;\n    }\n</style>\n<table border=\"1\" class=\"dataframe\">\n  <thead>\n    <tr>\n      <th></th>\n      <th colspan=\"2\" halign=\"left\">IN_FLUXES</th>\n      <th colspan=\"2\" halign=\"left\">OUT_FLUXES</th>\n      <th colspan=\"2\" halign=\"left\">OBJECTIVES</th>\n    </tr>\n    <tr>\n      <th></th>\n      <th>ID</th>\n      <th>FLUX</th>\n      <th>ID</th>\n      <th>FLUX</th>\n      <th>ID</th>\n      <th>FLUX</th>\n    </tr>\n  </thead>\n  <tbody>\n    <tr>\n      <th>0</th>\n      <td>o2_e</td>\n      <td>17.578934</td>\n      <td>h2o_e</td>\n      <td>45.619430</td>\n      <td>BIOMASS_Ec_iJO1366_core_53p95M</td>\n      <td>0.982372</td>\n    </tr>\n    <tr>\n      <th>1</th>\n      <td>nh4_e</td>\n      <td>10.610425</td>\n      <td>co2_e</td>\n      <td>19.675223</td>\n      <td>NaN</td>\n      <td>NaN</td>\n    </tr>\n    <tr>\n      <th>2</th>\n      <td>glc__D_e</td>\n      <td>10.000000</td>\n      <td>h_e</td>\n      <td>9.026260</td>\n      <td>NaN</td>\n      <td>NaN</td>\n    </tr>\n    <tr>\n      <th>3</th>\n      <td>pi_e</td>\n      <td>0.947626</td>\n      <td>NaN</td>\n      <td>NaN</td>\n      <td>NaN</td>\n      <td>NaN</td>\n    </tr>\n  </tbody>\n</table>\n</div>"
     },
     "metadata": {},
     "execution_count": 7
    }
   ],
   "source": [
    "# solve the model with default bounds\n",
    "model.optimize()\n",
    "model.summary()\n"
   ]
  },
  {
   "cell_type": "code",
   "execution_count": 21,
   "metadata": {
    "tags": []
   },
   "outputs": [
    {
     "output_type": "execute_result",
     "data": {
      "text/plain": "               fluxes  reduced_costs\nDM_4crsol_c  0.000219       0.000000\nDM_5drib_c   0.000221       0.000000\nDM_aacald_c  0.000000       0.000000\nDM_amob_c    0.000002       0.000000\nDM_mththf_c  0.000440       0.000000\n...               ...            ...\nZN2abcpp     0.000000      -0.008295\nZN2t3pp      0.000000      -0.002074\nZN2tpp       0.000335       0.000000\nZNabcpp      0.000000      -0.008295\nZn2tex       0.000335       0.000000\n\n[2583 rows x 2 columns]",
      "text/html": "<div>\n<style scoped>\n    .dataframe tbody tr th:only-of-type {\n        vertical-align: middle;\n    }\n\n    .dataframe tbody tr th {\n        vertical-align: top;\n    }\n\n    .dataframe thead th {\n        text-align: right;\n    }\n</style>\n<table border=\"1\" class=\"dataframe\">\n  <thead>\n    <tr style=\"text-align: right;\">\n      <th></th>\n      <th>fluxes</th>\n      <th>reduced_costs</th>\n    </tr>\n  </thead>\n  <tbody>\n    <tr>\n      <th>DM_4crsol_c</th>\n      <td>0.000219</td>\n      <td>0.000000</td>\n    </tr>\n    <tr>\n      <th>DM_5drib_c</th>\n      <td>0.000221</td>\n      <td>0.000000</td>\n    </tr>\n    <tr>\n      <th>DM_aacald_c</th>\n      <td>0.000000</td>\n      <td>0.000000</td>\n    </tr>\n    <tr>\n      <th>DM_amob_c</th>\n      <td>0.000002</td>\n      <td>0.000000</td>\n    </tr>\n    <tr>\n      <th>DM_mththf_c</th>\n      <td>0.000440</td>\n      <td>0.000000</td>\n    </tr>\n    <tr>\n      <th>...</th>\n      <td>...</td>\n      <td>...</td>\n    </tr>\n    <tr>\n      <th>ZN2abcpp</th>\n      <td>0.000000</td>\n      <td>-0.008295</td>\n    </tr>\n    <tr>\n      <th>ZN2t3pp</th>\n      <td>0.000000</td>\n      <td>-0.002074</td>\n    </tr>\n    <tr>\n      <th>ZN2tpp</th>\n      <td>0.000335</td>\n      <td>0.000000</td>\n    </tr>\n    <tr>\n      <th>ZNabcpp</th>\n      <td>0.000000</td>\n      <td>-0.008295</td>\n    </tr>\n    <tr>\n      <th>Zn2tex</th>\n      <td>0.000335</td>\n      <td>0.000000</td>\n    </tr>\n  </tbody>\n</table>\n<p>2583 rows × 2 columns</p>\n</div>"
     },
     "metadata": {},
     "execution_count": 21
    }
   ],
   "source": [
    "solution = model.optimize()\n",
    "solution.to_frame()"
   ]
  },
  {
   "cell_type": "markdown",
   "metadata": {},
   "source": [
    "## flux variability analysis (FVA)"
   ]
  },
  {
   "cell_type": "code",
   "execution_count": 8,
   "metadata": {},
   "outputs": [
    {
     "output_type": "display_data",
     "data": {
      "text/plain": "            minimum       maximum\nXYLI2 -1.606050e-13  6.424199e-13",
      "text/html": "<div>\n<style scoped>\n    .dataframe tbody tr th:only-of-type {\n        vertical-align: middle;\n    }\n\n    .dataframe tbody tr th {\n        vertical-align: top;\n    }\n\n    .dataframe thead th {\n        text-align: right;\n    }\n</style>\n<table border=\"1\" class=\"dataframe\">\n  <thead>\n    <tr style=\"text-align: right;\">\n      <th></th>\n      <th>minimum</th>\n      <th>maximum</th>\n    </tr>\n  </thead>\n  <tbody>\n    <tr>\n      <th>XYLI2</th>\n      <td>-1.606050e-13</td>\n      <td>6.424199e-13</td>\n    </tr>\n  </tbody>\n</table>\n</div>"
     },
     "metadata": {}
    }
   ],
   "source": [
    "# flux variability analysis for xylose isomerase\n",
    "from cobra.flux_analysis import flux_variability_analysis\n",
    "fv = flux_variability_analysis(model,[model.reactions.get_by_id('XYLI2')])\n",
    "display(fv)"
   ]
  },
  {
   "cell_type": "markdown",
   "metadata": {},
   "source": [
    "## Problems\n",
    "\n",
    "### Change objective function\n",
    " \n",
    "Calculate the solutions for the E. coli model with the following objectives:  ATP consumption; Redox exchange.  \n",
    "\n",
    "[Changing the objectives function](https://cobrapy.readthedocs.io/en/latest/simulating.html#Changing-the-Objectives)"
   ]
  },
  {
   "cell_type": "code",
   "execution_count": 9,
   "metadata": {},
   "outputs": [
    {
     "output_type": "execute_result",
     "data": {
      "text/plain": "<cobra.core.summary.model_summary.ModelSummary at 0x7f9cbdfbf690>",
      "text/html": "<div>\n<style scoped>\n    .dataframe tbody tr th:only-of-type {\n        vertical-align: middle;\n    }\n\n    .dataframe tbody tr th {\n        vertical-align: top;\n    }\n\n    .dataframe thead tr th {\n        text-align: left;\n    }\n</style>\n<table border=\"1\" class=\"dataframe\">\n  <thead>\n    <tr>\n      <th></th>\n      <th colspan=\"2\" halign=\"left\">IN_FLUXES</th>\n      <th colspan=\"2\" halign=\"left\">OUT_FLUXES</th>\n      <th colspan=\"2\" halign=\"left\">OBJECTIVES</th>\n    </tr>\n    <tr>\n      <th></th>\n      <th>ID</th>\n      <th>FLUX</th>\n      <th>ID</th>\n      <th>FLUX</th>\n      <th>ID</th>\n      <th>FLUX</th>\n    </tr>\n  </thead>\n  <tbody>\n    <tr>\n      <th>0</th>\n      <td>o2_e</td>\n      <td>60.0</td>\n      <td>h2o_e</td>\n      <td>60.0</td>\n      <td>ATPM</td>\n      <td>235.0</td>\n    </tr>\n    <tr>\n      <th>1</th>\n      <td>glc__D_e</td>\n      <td>10.0</td>\n      <td>co2_e</td>\n      <td>60.0</td>\n      <td>NaN</td>\n      <td>NaN</td>\n    </tr>\n  </tbody>\n</table>\n</div>"
     },
     "metadata": {},
     "execution_count": 9
    }
   ],
   "source": [
    "# change the objective to ATPM (single reaction)\n",
    "ecoli = cobra.test.create_test_model(\"ecoli\")\n",
    "ecoli.objective = \"ATPM\"\n",
    "ecoli.reactions.get_by_id(\"ATPM\").upper_bound = 1000.\n",
    "ecoli.optimize()\n",
    "ecoli.summary()\n"
   ]
  },
  {
   "cell_type": "code",
   "execution_count": 10,
   "metadata": {
    "scrolled": true,
    "tags": []
   },
   "outputs": [
    {
     "output_type": "stream",
     "name": "stdout",
     "text": "GRXR : Glutaredoxin reductase\nNHFRBO : NADH:flavorubredoxin oxidoreductase\nPAPSR : Phosphoadenylyl-sulfate reductase (thioredoxin)\nPAPSR2 : Phosphoadenylyl-sulfate reductase (glutaredoxin)\nRNDR1b : Ribonucleoside-diphosphate reductase (ADP) (glutaredoxin)\nRNDR2b : Ribonucleoside-diphosphate reductase (GDP) (glutaredoxin)\nRNDR3b : Ribonucleoside-diphosphate reductase (CDP) (glutaredoxin)\nRNDR4b : Ribonucleoside-diphosphate reductase (UDP) (glutaredoxin)\nTHIORDXi : Hydrogen peroxide reductase (thioredoxin)\nTRDR : Thioredoxin reductase (NADPH)\n"
    },
    {
     "output_type": "execute_result",
     "data": {
      "text/plain": "<cobra.core.summary.model_summary.ModelSummary at 0x7f9c7a11ab50>",
      "text/html": "<div>\n<style scoped>\n    .dataframe tbody tr th:only-of-type {\n        vertical-align: middle;\n    }\n\n    .dataframe tbody tr th {\n        vertical-align: top;\n    }\n\n    .dataframe thead tr th {\n        text-align: left;\n    }\n</style>\n<table border=\"1\" class=\"dataframe\">\n  <thead>\n    <tr>\n      <th></th>\n      <th colspan=\"2\" halign=\"left\">IN_FLUXES</th>\n      <th colspan=\"2\" halign=\"left\">OUT_FLUXES</th>\n      <th colspan=\"2\" halign=\"left\">OBJECTIVES</th>\n    </tr>\n    <tr>\n      <th></th>\n      <th>ID</th>\n      <th>FLUX</th>\n      <th>ID</th>\n      <th>FLUX</th>\n      <th>ID</th>\n      <th>FLUX</th>\n    </tr>\n  </thead>\n  <tbody>\n    <tr>\n      <th>0</th>\n      <td>o2_e</td>\n      <td>60.0</td>\n      <td>h2o_e</td>\n      <td>60.0</td>\n      <td>AKGDH</td>\n      <td>2.000000e+01</td>\n    </tr>\n    <tr>\n      <th>1</th>\n      <td>glc__D_e</td>\n      <td>10.0</td>\n      <td>co2_e</td>\n      <td>60.0</td>\n      <td>FADRx</td>\n      <td>-0.000000e+00</td>\n    </tr>\n    <tr>\n      <th>2</th>\n      <td>NaN</td>\n      <td>NaN</td>\n      <td>NaN</td>\n      <td>NaN</td>\n      <td>GAPD</td>\n      <td>2.000000e+01</td>\n    </tr>\n    <tr>\n      <th>3</th>\n      <td>NaN</td>\n      <td>NaN</td>\n      <td>NaN</td>\n      <td>NaN</td>\n      <td>HACD1</td>\n      <td>6.147272e-30</td>\n    </tr>\n    <tr>\n      <th>4</th>\n      <td>NaN</td>\n      <td>NaN</td>\n      <td>NaN</td>\n      <td>NaN</td>\n      <td>HACD2</td>\n      <td>6.147272e-30</td>\n    </tr>\n    <tr>\n      <th>5</th>\n      <td>NaN</td>\n      <td>NaN</td>\n      <td>NaN</td>\n      <td>NaN</td>\n      <td>HACD3</td>\n      <td>6.147272e-30</td>\n    </tr>\n    <tr>\n      <th>6</th>\n      <td>NaN</td>\n      <td>NaN</td>\n      <td>NaN</td>\n      <td>NaN</td>\n      <td>HACD4</td>\n      <td>6.147272e-30</td>\n    </tr>\n    <tr>\n      <th>7</th>\n      <td>NaN</td>\n      <td>NaN</td>\n      <td>NaN</td>\n      <td>NaN</td>\n      <td>HACD5</td>\n      <td>6.147272e-30</td>\n    </tr>\n    <tr>\n      <th>8</th>\n      <td>NaN</td>\n      <td>NaN</td>\n      <td>NaN</td>\n      <td>NaN</td>\n      <td>IPMD</td>\n      <td>0.000000e+00</td>\n    </tr>\n    <tr>\n      <th>9</th>\n      <td>NaN</td>\n      <td>NaN</td>\n      <td>NaN</td>\n      <td>NaN</td>\n      <td>MDH</td>\n      <td>5.037000e+02</td>\n    </tr>\n    <tr>\n      <th>10</th>\n      <td>NaN</td>\n      <td>NaN</td>\n      <td>NaN</td>\n      <td>NaN</td>\n      <td>NADH16pp</td>\n      <td>-0.000000e+00</td>\n    </tr>\n    <tr>\n      <th>11</th>\n      <td>NaN</td>\n      <td>NaN</td>\n      <td>NaN</td>\n      <td>NaN</td>\n      <td>PDH</td>\n      <td>2.000000e+01</td>\n    </tr>\n    <tr>\n      <th>12</th>\n      <td>NaN</td>\n      <td>NaN</td>\n      <td>NaN</td>\n      <td>NaN</td>\n      <td>PGCD</td>\n      <td>0.000000e+00</td>\n    </tr>\n  </tbody>\n</table>\n</div>"
     },
     "metadata": {},
     "execution_count": 10
    }
   ],
   "source": [
    "# change the objective to Redox exchange (multiple reactions)\n",
    "import pandas\n",
    "ecoli = cobra.test.create_test_model(\"ecoli\")\n",
    "# search metabolites about redox\n",
    "for x in ecoli.reactions:\n",
    "    if x.name.__str__().find(\"redox\")!=-1:\n",
    "        print(x.id,\":\",x.name)\n",
    "# define nadh as redox indicator\n",
    "ecoli.metabolites.nadh_c.summary()\n",
    "a=ecoli.metabolites.nadh_c.summary().to_frame()\n",
    "len(a.index)\n",
    "ids=[a.index[i][1] for i in range(0,13)]\n",
    "# first 0~5 produce nadh, 9~13 consume nadh\n",
    "produce_consume={}\n",
    "for i in range(0,6):\n",
    "    produce_consume[ecoli.reactions.get_by_id(ids[i])]=1.0\n",
    "for i in range(6,13):\n",
    "    produce_consume[ecoli.reactions.get_by_id(ids[i])]=-1.0\n",
    "ecoli.objective = produce_consume\n",
    "ecoli.objective.expression.__str__()\n",
    "ecoli.optimize()\n",
    "ecoli.summary()"
   ]
  },
  {
   "cell_type": "markdown",
   "metadata": {},
   "source": [
    "### Simulate aerobic and anaerobic conditions."
   ]
  },
  {
   "cell_type": "code",
   "execution_count": 11,
   "metadata": {
    "tags": []
   },
   "outputs": [
    {
     "output_type": "stream",
     "name": "stdout",
     "text": "{'EX_ca2_e': 1000.0, 'EX_cbl1_e': 0.01, 'EX_cl_e': 1000.0, 'EX_co2_e': 1000.0, 'EX_cobalt2_e': 1000.0, 'EX_cu2_e': 1000.0, 'EX_fe2_e': 1000.0, 'EX_fe3_e': 1000.0, 'EX_glc__D_e': 10.0, 'EX_h_e': 1000.0, 'EX_h2o_e': 1000.0, 'EX_k_e': 1000.0, 'EX_mg2_e': 1000.0, 'EX_mn2_e': 1000.0, 'EX_mobd_e': 1000.0, 'EX_na1_e': 1000.0, 'EX_nh4_e': 1000.0, 'EX_ni2_e': 1000.0, 'EX_o2_e': 1000.0, 'EX_pi_e': 1000.0, 'EX_sel_e': 1000.0, 'EX_slnt_e': 1000.0, 'EX_so4_e': 1000.0, 'EX_tungs_e': 1000.0, 'EX_zn2_e': 1000.0}\n"
    },
    {
     "output_type": "execute_result",
     "data": {
      "text/plain": "0.9823718127269787"
     },
     "metadata": {},
     "execution_count": 11
    }
   ],
   "source": [
    "# aerobic\n",
    "ecoli = cobra.test.create_test_model(\"ecoli\")\n",
    "# o2 flux : 1000.0\n",
    "print(ecoli.medium)\n",
    "# return the objective value\n",
    "# it's mass growth speed as default\n",
    "ecoli.slim_optimize()"
   ]
  },
  {
   "cell_type": "code",
   "execution_count": 12,
   "metadata": {
    "tags": []
   },
   "outputs": [
    {
     "output_type": "stream",
     "name": "stdout",
     "text": "False\n0.24150155709714463\n0.982371812726983\n1000.0\n"
    }
   ],
   "source": [
    "# anaerobic\n",
    "# medium change is only applied within the with block \n",
    "with ecoli:\n",
    "    medium = ecoli.medium\n",
    "    # can not change EX_o2_e directly\n",
    "    medium[\"EX_o2_e\"] = 0.0\n",
    "    ecoli.medium = medium\n",
    "    print(\"EX_o2_e\" in ecoli.medium.keys())\n",
    "    print(ecoli.slim_optimize())\n",
    "# grow slower\n",
    "print(ecoli.slim_optimize())\n",
    "# o2 flux in original model does not change\n",
    "print(ecoli.medium[\"EX_o2_e\"])"
   ]
  },
  {
   "cell_type": "markdown",
   "metadata": {},
   "source": [
    "###  Simulate gene essentiality \n",
    "\n",
    "[Single-Deletions](https://cobrapy.readthedocs.io/en/latest/deletions.html#Single-Deletions)  \n",
    "[how-to-get-an-arbitrary-element-from-a-frozenset](https://stackoverflow.com/questions/17801665/how-to-get-an-arbitrary-element-from-a-frozenset)"
   ]
  },
  {
   "cell_type": "code",
   "execution_count": 13,
   "metadata": {
    "tags": []
   },
   "outputs": [
    {
     "output_type": "stream",
     "name": "stdout",
     "text": "[<Metabolite acglc__D_c at 0x7f9c438f0e10>, <Metabolite adpglc_c at 0x7f9c43895e90>, <Metabolite dtdp4d6dg_c at 0x7f9c435c5d10>, <Metabolite dtdpglu_c at 0x7f9c435cd5d0>, <Metabolite udpg_c at 0x7f9c426be190>, <Metabolite udpg_e at 0x7f9c4268bd50>, <Metabolite udpg_p at 0x7f9c4261de50>]\nG1PTT | Glucose-1-phosphate thymidylyltransferase | dttp_c + g1p_c + h_c --> dtdpglu_c + ppi_c\nGALUi | UTP-glucose-1-phosphate uridylyltransferase (irreversible) | g1p_c + h_c + utp_c --> ppi_c + udpg_c\nGLCATr | D-glucose O-acetyltransferase | accoa_c + glc__D_c <=> acglc__D_c + coa_c\nGLGC | Glucose-1-phosphate adenylyltransferase | atp_c + g1p_c + h_c --> adpglc_c + ppi_c\nTDPGDH | DTDPglucose 4,6-dehydratase | dtdpglu_c --> dtdp4d6dg_c + h2o_c\nUDPGtex | UDPglucose transport via diffusion (extracellular to periplasm) | udpg_e <=> udpg_p\n"
    },
    {
     "output_type": "execute_result",
     "data": {
      "text/plain": "           growth   status\nids                       \n(b3416)  0.982372  optimal",
      "text/html": "<div>\n<style scoped>\n    .dataframe tbody tr th:only-of-type {\n        vertical-align: middle;\n    }\n\n    .dataframe tbody tr th {\n        vertical-align: top;\n    }\n\n    .dataframe thead th {\n        text-align: right;\n    }\n</style>\n<table border=\"1\" class=\"dataframe\">\n  <thead>\n    <tr style=\"text-align: right;\">\n      <th></th>\n      <th>growth</th>\n      <th>status</th>\n    </tr>\n    <tr>\n      <th>ids</th>\n      <th></th>\n      <th></th>\n    </tr>\n  </thead>\n  <tbody>\n    <tr>\n      <th>(b3416)</th>\n      <td>0.982372</td>\n      <td>optimal</td>\n    </tr>\n  </tbody>\n</table>\n</div>"
     },
     "metadata": {},
     "execution_count": 13
    }
   ],
   "source": [
    "# delete Glucose producing gene\n",
    "from cobra.flux_analysis import (\n",
    "    single_gene_deletion, single_reaction_deletion, double_gene_deletion,\n",
    "    double_reaction_deletion)\n",
    "# search id\n",
    "metabolites=[]\n",
    "for i in ecoli.metabolites:\n",
    "    if i.name.__str__().find(\"glucose\")!=-1:\n",
    "        metabolites.append(i)\n",
    "print(metabolites)\n",
    "# search reactions\n",
    "for r in ecoli.reactions:\n",
    "    for i in metabolites:\n",
    "        if i in r.products:\n",
    "            print(r.id,\"|\",r.name,\"|\",r.build_reaction_string())\n",
    "\n",
    "glucose=ecoli.metabolites.get_by_id(\"glc__D_c\") \n",
    "reactions=[]\n",
    "for r in ecoli.reactions:\n",
    "    if glucose in r.products:\n",
    "        reactions.append(r)\n",
    "# 16 reactions produce glucose\n",
    "len(reactions)\n",
    "# delete the gene of the first reaction\n",
    "gene=[i for i in reactions[0].genes][0]\n",
    "# gene_list : iterable\n",
    "single_gene_deletion(ecoli, [gene])\n"
   ]
  },
  {
   "cell_type": "code",
   "execution_count": 14,
   "metadata": {
    "tags": []
   },
   "outputs": [
    {
     "output_type": "stream",
     "name": "stdout",
     "text": "LEUTAi | Leucine transaminase (irreversible) | 4mop_c + glu__L_c --> akg_c + leu__L_c\n1.0\nLEUabcpp | L-leucine transport via ABC system (periplasm) | atp_c + h2o_c + leu__L_p --> adp_c + h_c + leu__L_c + pi_c\n1.0\nLEUt2rpp | L-leucine reversible transport via proton symport (periplasm) | h_p + leu__L_p <=> h_c + leu__L_c\n1.0\nLEUtex | L-leucine transport via diffusion (extracellular to periplasm) | leu__L_e <=> leu__L_p\n1.0\nCADVtpp | Lysine/Cadaverine antiporter (periplasm) | 15dap_c + h_p + lys__L_p --> 15dap_p + h_c + lys__L_c\n1.0\nDAPDC | Diaminopimelate decarboxylase | 26dap__M_c + h_c --> co2_c + lys__L_c\n1.0\nFRULYSDG | Fructoselysine phosphate deglycase | frulysp_c + h2o_c <=> g6p_c + lys__L_c\n1.0\nLYSTRS | Lysyl-tRNA synthetase | atp_c + lys__L_c + trnalys_c --> amp_c + lystrna_c + ppi_c\n1.0\nLYSabcpp | L-lysine transport via ABC system (periplasm) | atp_c + h2o_c + lys__L_p --> adp_c + h_c + lys__L_c + pi_c\n1.0\nLYSt2pp | L-lysine transport in via proton symport (periplasm) | h_p + lys__L_p --> h_c + lys__L_c\n1.0\nLYSt3pp | L-lysine transport out via proton antiport (cytoplasm to periplasm) | h_p + lys__L_c --> h_c + lys__L_p\n1.0\nLYStex | L-lysine transport via diffusion (extracellular to periplasm) | lys__L_e <=> lys__L_p\n1.0\nBTS5 | Biotin synthase | 2fe2s_c + amet_c + dtbt_c --> 2fe1s_c + btn_c + dad_5_c + h_c + met__L_c\n1.0\nCPPPGO2 | Oxygen Independent coproporphyrinogen-III oxidase | 2.0 amet_c + cpppg3_c --> 2.0 co2_c + 2.0 dad_5_c + 2.0 met__L_c + pppg9_c\n2.0\nHCYSMT | Homocysteine S-methyltransferase | amet_c + hcys__L_c --> ahcys_c + h_c + met__L_c\n1.0\nHCYSMT2 | Homocysteine Methyltransferase | hcys__L_c + mmet_c --> h_c + 2.0 met__L_c\n2.0\nLIPOS | Lipoate synthase | 4fe4s_c + 2.0 amet_c + h_c + nad_c + octapb_c --> 2fe2s_c + 2.0 dad_5_c + 2.0 fe2_c + lipopb_c + 2.0 met__L_c + nadh_c\n2.0\nMETDabcpp | D-methionine transport via ABC system (periplasm) | atp_c + h2o_c + met__D_p --> adp_c + h_c + met__D_c + pi_c\n1.0\nMETDtex | D-methionine transport via diffusion (extracellular to periplasm) | met__D_e <=> met__D_p\n1.0\nMETOX1s | Methionine oxidation (spontaneous) | h2o2_c + met__L_c --> h2o_c + metsox_S__L_c\n1.0\nMETS | Methionine synthase | 5mthf_c + hcys__L_c --> h_c + met__L_c + thf_c\n1.0\nMETSOX1abcpp | L-methionine S-oxide transport via ABC system (periplasm) | atp_c + h2o_c + metsox_S__L_p --> adp_c + h_c + metsox_S__L_c + pi_c\n1.0\nMETSOX1tex | L-methionine S-oxide diffusion (extracellular) | metsox_S__L_e <=> metsox_S__L_p\n1.0\nMETSOXR1 | L-methionine-S-oxide reductase | metsox_S__L_c + trdrd_c --> h2o_c + met__L_c + trdox_c\n1.0\nMETSOXR2 | L-methionine-R-sulfoxide reductase | metsox_R__L_c + trdrd_c --> h2o_c + met__L_c + trdox_c\n1.0\nMETabcpp | L-methionine transport via ABC system (periplasm) | atp_c + h2o_c + met__L_p --> adp_c + h_c + met__L_c + pi_c\n1.0\nMETtex | L-methionine transport via diffusion (extracellular to periplasm) | met__L_e <=> met__L_p\n1.0\nTYRL | Tyrosine lyase | amet_c + nadph_c + tyr__L_c --> 4crsol_c + dad_5_c + dhgly_c + h_c + met__L_c + nadp_c\n1.0\nPHEt2rpp | L-phenylalanine reversible transport via proton symport (periplasm) | h_p + phe__L_p <=> h_c + phe__L_c\n1.0\nPHEtex | L-phenylalanine transport via diffusion (extracellular to periplasm) | phe__L_e <=> phe__L_p\n1.0\nPTHRpp | Phospho-L-threonine phosphatase (periplasmic) | h2o_p + thrp_p --> pi_p + thr__L_p\n1.0\nTHRPtex | Phospho-L-threonine transport via diffusion (extracellular to periplasm) | thrp_e <=> thrp_p\n1.0\nTHRS | Threonine synthase | h2o_c + phom_c --> pi_c + thr__L_c\n1.0\nTHRabcpp | L-threonine transport via ABC system (periplasm) | atp_c + h2o_c + thr__L_p --> adp_c + h_c + pi_c + thr__L_c\n1.0\nTHRt2pp | L-threonine efflux transport via proton antiport (periplasm) | h_p + thr__L_c --> h_c + thr__L_p\n1.0\nTHRt2rpp | L-threonine reversible transport via proton symport (periplasm) | h_p + thr__L_p <=> h_c + thr__L_c\n1.0\nTHRt4pp | L-threonine  via sodium symport (periplasm) | na1_p + thr__L_p --> na1_c + thr__L_c\n1.0\nTHRtex | L-threonine transport via diffusion (extracellular to periplasm) | thr__L_e <=> thr__L_p\n1.0\nHISTD | Histidinol dehydrogenase | h2o_c + histd_c + 2.0 nad_c --> 3.0 h_c + his__L_c + 2.0 nadh_c\n1.0\nHISabcpp | L-histidine transport via ABC system (periplasm) | atp_c + h2o_c + his__L_p --> adp_c + h_c + his__L_c + pi_c\n1.0\nHISt2rpp | L-histidine reversible transport via proton symport (periplasm) | h_p + his__L_p <=> h_c + his__L_c\n1.0\nHIStex | L-histidine transport via diffusion (extracellular to periplasm) | his__L_e <=> his__L_p\n1.0\n"
    },
    {
     "output_type": "execute_result",
     "data": {
      "text/plain": "[[<Metabolite his__L_c at 0x7f9c432aadd0>,\n  <Metabolite his__L_e at 0x7f9c42718f50>,\n  <Metabolite his__L_p at 0x7f9c42660850>],\n [<Reaction HISTD at 0x7f9c41f9f990>,\n  <Reaction HISabcpp at 0x7f9c41fadcd0>,\n  <Reaction HISt2rpp at 0x7f9c41fb2850>,\n  <Reaction HIStex at 0x7f9c41fb2f90>]]"
     },
     "metadata": {},
     "execution_count": 14
    }
   ],
   "source": [
    "# wrap in function\n",
    "def findAminoProducingReaction(name):\n",
    "    metabolites=[]\n",
    "    for i in ecoli.metabolites:\n",
    "        if i.name.__str__().find(name)!=-1:\n",
    "            metabolites.append(i)\n",
    "    reactions=[]\n",
    "    for r in ecoli.reactions:\n",
    "        for i in metabolites:\n",
    "            if i in r.products:\n",
    "                print(r.id,\"|\",r.name,\"|\",r.build_reaction_string())\n",
    "                print(r.metabolites[i])\n",
    "                reactions.append(r)\n",
    "    return([metabolites,reactions])\n",
    "findAminoProducingReaction(\"Leucine\")\n",
    "findAminoProducingReaction(\"Lysine\")\n",
    "findAminoProducingReaction(\"Methionine\")\n",
    "findAminoProducingReaction(\"Phenylalanine\")\n",
    "findAminoProducingReaction(\"Threonine\")\n",
    "findAminoProducingReaction(\"Histidine\")"
   ]
  },
  {
   "cell_type": "markdown",
   "metadata": {},
   "source": [
    "## reference\n",
    "\n",
    "[Documentation for COBRApy](https://cobrapy.readthedocs.io/en/latest/)  \n",
    "\n",
    "Carbonell, Pablo. Metabolic Pathway Design. Springer International Publishing, 2019."
   ]
  }
 ],
 "metadata": {
  "kernelspec": {
   "display_name": "Python 3.7.8 64-bit ('cobra': conda)",
   "language": "python",
   "name": "python_defaultSpec_1598488053388"
  },
  "language_info": {
   "codemirror_mode": {
    "name": "ipython",
    "version": 3
   },
   "file_extension": ".py",
   "mimetype": "text/x-python",
   "name": "python",
   "nbconvert_exporter": "python",
   "pygments_lexer": "ipython3",
   "version": "3.7.8-final"
  }
 },
 "nbformat": 4,
 "nbformat_minor": 4
}