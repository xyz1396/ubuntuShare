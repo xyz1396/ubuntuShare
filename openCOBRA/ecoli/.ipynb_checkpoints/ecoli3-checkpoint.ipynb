{
 "cells": [
  {
   "cell_type": "markdown",
   "metadata": {},
   "source": [
    "## genome of used E.coli\n",
    "\n",
    "We can not get the genome's information from the model, but we can get genes' information involved in every reaction. Besides, we only need to add genes when we build the model.  \n",
    "  \n",
    "[building model](https://cobrapy.readthedocs.io/en/latest/building_model.html)"
   ]
  },
  {
   "cell_type": "code",
   "execution_count": 15,
   "metadata": {
    "tags": []
   },
   "outputs": [],
   "source": [
    "# import demo\n",
    "import cobra.test\n",
    "model=cobra.test.create_test_model(\"ecoli\")"
   ]
  },
  {
   "cell_type": "code",
   "execution_count": 16,
   "metadata": {},
   "outputs": [
    {
     "data": {
      "text/html": [
       "\n",
       "        <table>\n",
       "            <tr>\n",
       "                <td><strong>Name</strong></td>\n",
       "                <td>iJO1366</td>\n",
       "            </tr><tr>\n",
       "                <td><strong>Memory address</strong></td>\n",
       "                <td>0x07f9952a05110</td>\n",
       "            </tr><tr>\n",
       "                <td><strong>Number of metabolites</strong></td>\n",
       "                <td>1805</td>\n",
       "            </tr><tr>\n",
       "                <td><strong>Number of reactions</strong></td>\n",
       "                <td>2583</td>\n",
       "            </tr><tr>\n",
       "                <td><strong>Number of groups</strong></td>\n",
       "                <td>37</td>\n",
       "            </tr><tr>\n",
       "                <td><strong>Objective expression</strong></td>\n",
       "                <td>1.0*BIOMASS_Ec_iJO1366_core_53p95M - 1.0*BIOMASS_Ec_iJO1366_core_53p95M_reverse_5c8b1</td>\n",
       "            </tr><tr>\n",
       "                <td><strong>Compartments</strong></td>\n",
       "                <td>cytosol, extracellular space, periplasm</td>\n",
       "            </tr>\n",
       "          </table>"
      ],
      "text/plain": [
       "<Model iJO1366 at 0x7f9952a05110>"
      ]
     },
     "metadata": {},
     "output_type": "display_data"
    }
   ],
   "source": [
    "# get model information\n",
    "display(model)"
   ]
  },
  {
   "cell_type": "code",
   "execution_count": 17,
   "metadata": {
    "tags": []
   },
   "outputs": [
    {
     "name": "stdout",
     "output_type": "stream",
     "text": [
      "1367\n"
     ]
    }
   ],
   "source": [
    "# get all genes\n",
    "genes=model.genes\n",
    "print(len(genes))"
   ]
  },
  {
   "cell_type": "code",
   "execution_count": 18,
   "metadata": {
    "tags": []
   },
   "outputs": [
    {
     "name": "stdout",
     "output_type": "stream",
     "text": [
      "b2215\n"
     ]
    },
    {
     "data": {
      "text/plain": [
       "{'uniprot': 'P06996',\n",
       " 'asap': 'ABE-0007321',\n",
       " 'ecogene': 'EG10670',\n",
       " 'ncbigene': '946716',\n",
       " 'ncbigi': 'gi:16130152'}"
      ]
     },
     "execution_count": 18,
     "metadata": {},
     "output_type": "execute_result"
    }
   ],
   "source": [
    "# get one gene's info\n",
    "gene=genes[1]\n",
    "print(gene.id)\n",
    "gene.annotation"
   ]
  },
  {
   "cell_type": "markdown",
   "metadata": {},
   "source": [
    "## the medium, and culture condition were set in flux analysis  \n",
    "  \n",
    "[Growth media](https://cobrapy.readthedocs.io/en/latest/media.html)"
   ]
  },
  {
   "cell_type": "code",
   "execution_count": 19,
   "metadata": {},
   "outputs": [
    {
     "data": {
      "text/plain": [
       "{'EX_ca2_e': 1000.0,\n",
       " 'EX_cbl1_e': 0.01,\n",
       " 'EX_cl_e': 1000.0,\n",
       " 'EX_co2_e': 1000.0,\n",
       " 'EX_cobalt2_e': 1000.0,\n",
       " 'EX_cu2_e': 1000.0,\n",
       " 'EX_fe2_e': 1000.0,\n",
       " 'EX_fe3_e': 1000.0,\n",
       " 'EX_glc__D_e': 10.0,\n",
       " 'EX_h_e': 1000.0,\n",
       " 'EX_h2o_e': 1000.0,\n",
       " 'EX_k_e': 1000.0,\n",
       " 'EX_mg2_e': 1000.0,\n",
       " 'EX_mn2_e': 1000.0,\n",
       " 'EX_mobd_e': 1000.0,\n",
       " 'EX_na1_e': 1000.0,\n",
       " 'EX_nh4_e': 1000.0,\n",
       " 'EX_ni2_e': 1000.0,\n",
       " 'EX_o2_e': 1000.0,\n",
       " 'EX_pi_e': 1000.0,\n",
       " 'EX_sel_e': 1000.0,\n",
       " 'EX_slnt_e': 1000.0,\n",
       " 'EX_so4_e': 1000.0,\n",
       " 'EX_tungs_e': 1000.0,\n",
       " 'EX_zn2_e': 1000.0}"
      ]
     },
     "execution_count": 19,
     "metadata": {},
     "output_type": "execute_result"
    }
   ],
   "source": [
    "# default medium and the flux constraint of them\n",
    "model.medium"
   ]
  },
  {
   "cell_type": "markdown",
   "metadata": {},
   "source": [
    "## output FBA result  \n",
    "  \n",
    "Metabolic Pathway Design, Page 30 \n",
    "  \n",
    "\n",
    "[Simulating with FBA](https://cobrapy.readthedocs.io/en/latest/simulating.html#)"
   ]
  },
  {
   "cell_type": "code",
   "execution_count": 30,
   "metadata": {},
   "outputs": [
    {
     "data": {
      "text/html": [
       "<div>\n",
       "<style scoped>\n",
       "    .dataframe tbody tr th:only-of-type {\n",
       "        vertical-align: middle;\n",
       "    }\n",
       "\n",
       "    .dataframe tbody tr th {\n",
       "        vertical-align: top;\n",
       "    }\n",
       "\n",
       "    .dataframe thead tr th {\n",
       "        text-align: left;\n",
       "    }\n",
       "</style>\n",
       "<table border=\"1\" class=\"dataframe\">\n",
       "  <thead>\n",
       "    <tr>\n",
       "      <th></th>\n",
       "      <th colspan=\"2\" halign=\"left\">IN_FLUXES</th>\n",
       "      <th colspan=\"2\" halign=\"left\">OUT_FLUXES</th>\n",
       "      <th colspan=\"2\" halign=\"left\">OBJECTIVES</th>\n",
       "    </tr>\n",
       "    <tr>\n",
       "      <th></th>\n",
       "      <th>ID</th>\n",
       "      <th>FLUX</th>\n",
       "      <th>ID</th>\n",
       "      <th>FLUX</th>\n",
       "      <th>ID</th>\n",
       "      <th>FLUX</th>\n",
       "    </tr>\n",
       "  </thead>\n",
       "  <tbody>\n",
       "    <tr>\n",
       "      <th>0</th>\n",
       "      <td>o2_e</td>\n",
       "      <td>17.578934</td>\n",
       "      <td>h2o_e</td>\n",
       "      <td>45.619430</td>\n",
       "      <td>BIOMASS_Ec_iJO1366_core_53p95M</td>\n",
       "      <td>0.982372</td>\n",
       "    </tr>\n",
       "    <tr>\n",
       "      <th>1</th>\n",
       "      <td>nh4_e</td>\n",
       "      <td>10.610425</td>\n",
       "      <td>co2_e</td>\n",
       "      <td>19.675223</td>\n",
       "      <td>NaN</td>\n",
       "      <td>NaN</td>\n",
       "    </tr>\n",
       "    <tr>\n",
       "      <th>2</th>\n",
       "      <td>glc__D_e</td>\n",
       "      <td>10.000000</td>\n",
       "      <td>h_e</td>\n",
       "      <td>9.026260</td>\n",
       "      <td>NaN</td>\n",
       "      <td>NaN</td>\n",
       "    </tr>\n",
       "    <tr>\n",
       "      <th>3</th>\n",
       "      <td>pi_e</td>\n",
       "      <td>0.947626</td>\n",
       "      <td>NaN</td>\n",
       "      <td>NaN</td>\n",
       "      <td>NaN</td>\n",
       "      <td>NaN</td>\n",
       "    </tr>\n",
       "  </tbody>\n",
       "</table>\n",
       "</div>"
      ],
      "text/plain": [
       "<cobra.core.summary.model_summary.ModelSummary at 0x7f995147b5d0>"
      ]
     },
     "execution_count": 30,
     "metadata": {},
     "output_type": "execute_result"
    }
   ],
   "source": [
    "import pandas as pd\n",
    "solution=model.optimize()\n",
    "# get in and out flux and objectives\n",
    "model.summary()."
   ]
  },
  {
   "cell_type": "code",
   "execution_count": 26,
   "metadata": {},
   "outputs": [],
   "source": [
    "\n",
    "# output flux of each reaction\n",
    "solution.to_frame().to_csv(\"FBA reaction results.csv\")\n"
   ]
  },
  {
   "cell_type": "code",
   "execution_count": 35,
   "metadata": {},
   "outputs": [
    {
     "data": {
      "text/html": [
       "<div>\n",
       "<style scoped>\n",
       "    .dataframe tbody tr th:only-of-type {\n",
       "        vertical-align: middle;\n",
       "    }\n",
       "\n",
       "    .dataframe tbody tr th {\n",
       "        vertical-align: top;\n",
       "    }\n",
       "\n",
       "    .dataframe thead th {\n",
       "        text-align: right;\n",
       "    }\n",
       "</style>\n",
       "<table border=\"1\" class=\"dataframe\">\n",
       "  <thead>\n",
       "    <tr style=\"text-align: right;\">\n",
       "      <th></th>\n",
       "      <th></th>\n",
       "      <th>PERCENT</th>\n",
       "      <th>FLUX</th>\n",
       "      <th>REACTION_STRING</th>\n",
       "    </tr>\n",
       "    <tr>\n",
       "      <th>RXN_STAT</th>\n",
       "      <th>ID</th>\n",
       "      <th></th>\n",
       "      <th></th>\n",
       "      <th></th>\n",
       "    </tr>\n",
       "  </thead>\n",
       "  <tbody>\n",
       "    <tr>\n",
       "      <th>PRODUCING</th>\n",
       "      <th>EX_glc__D_e</th>\n",
       "      <td>100.0</td>\n",
       "      <td>10.0</td>\n",
       "      <td>glc__D_e &lt;=&gt;</td>\n",
       "    </tr>\n",
       "    <tr>\n",
       "      <th>CONSUMING</th>\n",
       "      <th>GLCtex_copy1</th>\n",
       "      <td>100.0</td>\n",
       "      <td>10.0</td>\n",
       "      <td>glc__D_e &lt;=&gt; glc__D_p</td>\n",
       "    </tr>\n",
       "  </tbody>\n",
       "</table>\n",
       "</div>"
      ],
      "text/plain": [
       "<cobra.core.summary.metabolite_summary.MetaboliteSummary at 0x7f994f13a190>"
      ]
     },
     "execution_count": 35,
     "metadata": {},
     "output_type": "execute_result"
    }
   ],
   "source": [
    "# get one metabolites's summary\n",
    "glucose = model.metabolites.get_by_id(\"glc__D_e\")\n",
    "glucose.summary()"
   ]
  }
 ],
 "metadata": {
  "kernelspec": {
   "display_name": "Python [conda env:cobra]",
   "language": "python",
   "name": "conda-env-cobra-py"
  },
  "language_info": {
   "codemirror_mode": {
    "name": "ipython",
    "version": 3
   },
   "file_extension": ".py",
   "mimetype": "text/x-python",
   "name": "python",
   "nbconvert_exporter": "python",
   "pygments_lexer": "ipython3",
   "version": "3.7.8"
  }
 },
 "nbformat": 4,
 "nbformat_minor": 4
}
