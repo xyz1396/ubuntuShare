{
 "cells": [
  {
   "cell_type": "markdown",
   "metadata": {},
   "source": [
    "# Ecoli demo\n",
    "\n",
    "[biomodels database](https://www.ebi.ac.uk/biomodels/)"
   ]
  },
  {
   "cell_type": "code",
   "execution_count": 9,
   "metadata": {},
   "outputs": [
    {
     "data": {
      "text/html": [
       "\n",
       "        <table>\n",
       "            <tr>\n",
       "                <td><strong>Name</strong></td>\n",
       "                <td>iJO1366</td>\n",
       "            </tr><tr>\n",
       "                <td><strong>Memory address</strong></td>\n",
       "                <td>0x07ffaa5d01810</td>\n",
       "            </tr><tr>\n",
       "                <td><strong>Number of metabolites</strong></td>\n",
       "                <td>1805</td>\n",
       "            </tr><tr>\n",
       "                <td><strong>Number of reactions</strong></td>\n",
       "                <td>2583</td>\n",
       "            </tr><tr>\n",
       "                <td><strong>Number of groups</strong></td>\n",
       "                <td>37</td>\n",
       "            </tr><tr>\n",
       "                <td><strong>Objective expression</strong></td>\n",
       "                <td>1.0*BIOMASS_Ec_iJO1366_core_53p95M - 1.0*BIOMASS_Ec_iJO1366_core_53p95M_reverse_5c8b1</td>\n",
       "            </tr><tr>\n",
       "                <td><strong>Compartments</strong></td>\n",
       "                <td>cytosol, extracellular space, periplasm</td>\n",
       "            </tr>\n",
       "          </table>"
      ],
      "text/plain": [
       "<Model iJO1366 at 0x7ffaa5d01810>"
      ]
     },
     "metadata": {},
     "output_type": "display_data"
    }
   ],
   "source": [
    "# import model\n",
    "import cobra.test\n",
    "model=cobra.test.create_test_model(\"ecoli\")\n",
    "display(model)"
   ]
  },
  {
   "cell_type": "code",
   "execution_count": 13,
   "metadata": {
    "tags": []
   },
   "outputs": [
    {
     "name": "stdout",
     "output_type": "stream",
     "text": [
      "all__D_c:D-Allose\n",
      "fru_c:D-Fructose\n",
      "gal_c:D-Galactose\n",
      "glc__D_c:D-Glucose\n",
      "inost_c:Myo-Inositol\n",
      "man_c:D-Mannose\n",
      "all__D_e:D-Allose\n",
      "fru_e:D-Fructose\n",
      "gal_e:D-Galactose\n",
      "gal_bD_e:Beta D-Galactose\n",
      "glc__D_e:D-Glucose\n",
      "inost_e:Myo-Inositol\n",
      "man_e:D-Mannose\n",
      "all__D_p:D-Allose\n",
      "fru_p:D-Fructose\n",
      "gal_p:D-Galactose\n",
      "gal_bD_p:Beta D-Galactose\n",
      "glc__D_p:D-Glucose\n",
      "inost_p:Myo-Inositol\n",
      "man_p:D-Mannose\n"
     ]
    }
   ],
   "source": [
    "# search metabolites: glucose\n",
    "for x in model.metabolites:\n",
    "    if x.formula == \"C6H12O6\":\n",
    "        print(x.id,\":\",x.name,sep=\"\")"
   ]
  },
  {
   "cell_type": "code",
   "execution_count": 16,
   "metadata": {
    "tags": []
   },
   "outputs": [
    {
     "data": {
      "text/html": [
       "\n",
       "        <table>\n",
       "            <tr>\n",
       "                <td><strong>Reaction identifier</strong></td><td>PGI</td>\n",
       "            </tr><tr>\n",
       "                <td><strong>Name</strong></td><td>Glucose-6-phosphate isomerase</td>\n",
       "            </tr><tr>\n",
       "                <td><strong>Memory address</strong></td>\n",
       "                <td>0x07ffaff0f0c10</td>\n",
       "            </tr><tr>\n",
       "                <td><strong>Stoichiometry</strong></td>\n",
       "                <td>\n",
       "                    <p style='text-align:right'>g6p_c <=> f6p_c</p>\n",
       "                    <p style='text-align:right'>D-Glucose 6-phosphate <=> D-Fructose 6-phosphate</p>\n",
       "                </td>\n",
       "            </tr><tr>\n",
       "                <td><strong>GPR</strong></td><td>b4025</td>\n",
       "            </tr><tr>\n",
       "                <td><strong>Lower bound</strong></td><td>-1000.0</td>\n",
       "            </tr><tr>\n",
       "                <td><strong>Upper bound</strong></td><td>1000.0</td>\n",
       "            </tr>\n",
       "        </table>\n",
       "        "
      ],
      "text/plain": [
       "<Reaction PGI at 0x7ffaff0f0c10>"
      ]
     },
     "metadata": {},
     "output_type": "display_data"
    },
    {
     "name": "stdout",
     "output_type": "stream",
     "text": [
      "GLCATr | D-glucose O-acetyltransferase | accoa_c + glc__D_c <=> acglc__D_c + coa_c\n",
      "HEX1 | Hexokinase (D-glucose:ATP) | atp_c + glc__D_c --> adp_c + g6p_c + h_c\n",
      "XYLI2 | Xylose isomerase | glc__D_c <=> fru_c\n"
     ]
    }
   ],
   "source": [
    "# PGI reaction: converts D-glucose 6-phosphate into D-fructose 6-phosphate\n",
    "pgi = model.reactions.get_by_id(\"PGI\")\n",
    "display(pgi)\n"
   ]
  },
  {
   "cell_type": "code",
   "execution_count": 17,
   "metadata": {
    "tags": []
   },
   "outputs": [
    {
     "name": "stdout",
     "output_type": "stream",
     "text": [
      "GLCATr | D-glucose O-acetyltransferase | accoa_c + glc__D_c <=> acglc__D_c + coa_c\n",
      "HEX1 | Hexokinase (D-glucose:ATP) | atp_c + glc__D_c --> adp_c + g6p_c + h_c\n",
      "XYLI2 | Xylose isomerase | glc__D_c <=> fru_c\n"
     ]
    }
   ],
   "source": [
    "# search reactions involving glucose\n",
    "glucose = model.metabolites.get_by_id(\"glc__D_c\")\n",
    "for r in model.reactions:\n",
    "    if glucose in r.reactants:\n",
    "        print(r.id,\"|\",r.name,\"|\",r.build_reaction_string())"
   ]
  }
 ],
 "metadata": {
  "kernelspec": {
   "display_name": "Python [conda env:openCOBRA]",
   "language": "python",
   "name": "conda-env-openCOBRA-py"
  },
  "language_info": {
   "codemirror_mode": {
    "name": "ipython",
    "version": 3
   },
   "file_extension": ".py",
   "mimetype": "text/x-python",
   "name": "python",
   "nbconvert_exporter": "python",
   "pygments_lexer": "ipython3",
   "version": "3.7.8"
  }
 },
 "nbformat": 4,
 "nbformat_minor": 4
}
