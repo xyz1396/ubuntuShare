{
 "metadata": {
  "language_info": {
   "codemirror_mode": {
    "name": "ipython",
    "version": 3
   },
   "file_extension": ".py",
   "mimetype": "text/x-python",
   "name": "python",
   "nbconvert_exporter": "python",
   "pygments_lexer": "ipython3",
   "version": "3.7.8-final"
  },
  "orig_nbformat": 2,
  "kernelspec": {
   "name": "python37864bitopencobraconda3b29111003364972920905d744e4bf25",
   "display_name": "Python 3.7.8 64-bit ('openCOBRA': conda)"
  }
 },
 "nbformat": 4,
 "nbformat_minor": 2,
 "cells": [
  {
   "cell_type": "code",
   "execution_count": 2,
   "metadata": {
    "tags": []
   },
   "outputs": [],
   "source": [
    "import cobra.test\n",
    "import cobra.io\n",
    "import pandas as pd"
   ]
  },
  {
   "cell_type": "code",
   "execution_count": 3,
   "metadata": {
    "tags": []
   },
   "outputs": [],
   "source": [
    "%%capture\n",
    "# ignore output because it is too much\n",
    "# \"Encoding OBJECTIVE_COEFFICIENT in KineticLaw is discouraged...use fbc:fluxObjective instead:\"\n",
    "iMR=cobra.io.read_sbml_model(\"iMR539.xml\")"
   ]
  },
  {
   "cell_type": "code",
   "execution_count": 4,
   "metadata": {},
   "outputs": [
    {
     "output_type": "display_data",
     "data": {
      "text/plain": "<Model M_maripaludis_probanno_xml at 0x7f13b181a9d0>",
      "text/html": "\n        <table>\n            <tr>\n                <td><strong>Name</strong></td>\n                <td>M_maripaludis_probanno_xml</td>\n            </tr><tr>\n                <td><strong>Memory address</strong></td>\n                <td>0x07f13b181a9d0</td>\n            </tr><tr>\n                <td><strong>Number of metabolites</strong></td>\n                <td>710</td>\n            </tr><tr>\n                <td><strong>Number of reactions</strong></td>\n                <td>688</td>\n            </tr><tr>\n                <td><strong>Number of groups</strong></td>\n                <td>137</td>\n            </tr><tr>\n                <td><strong>Objective expression</strong></td>\n                <td>1.0*biomass0 - 1.0*biomass0_reverse_9c18d</td>\n            </tr><tr>\n                <td><strong>Compartments</strong></td>\n                <td>Cytosol, Extracellular</td>\n            </tr>\n          </table>"
     },
     "metadata": {}
    }
   ],
   "source": [
    "display(iMR)"
   ]
  },
  {
   "cell_type": "code",
   "execution_count": 24,
   "metadata": {},
   "outputs": [],
   "source": [
    "# output medium\n",
    "medium_list = list(iMR.medium.keys())\n",
    "# medium_list[-2] EX_Flagellin_LSQBKT_e0_RSQBKT_\n",
    "del medium_list[-2]\n",
    "def getMediumContent(model):\n",
    "    df=pd.DataFrame()\n",
    "    for i in medium_list:\n",
    "        try:\n",
    "            compound=model.metabolites.get_by_id(i[3:11]+\"_c0\")\n",
    "        except KeyError:\n",
    "            compound=model.metabolites.get_by_id(i[3:11]+\"_e0\")\n",
    "        df[i]=pd.Series({'Metabolite identifier': compound.id, 'Name':compound.name, \\\n",
    "            'Formula':compound.formula}) \n",
    "    return df\n",
    "df=getMediumContent(iMR)\n",
    "compound=iMR.metabolites.get_by_id(\"FLGN_e0\")\n",
    "df[\"FLGN_e0\"]=pd.Series({'Metabolite identifier': compound.id, 'Name':compound.name, \\\n",
    "            'Formula':compound.formula})\n",
    "df.T.to_csv(\"iMR.medium.csv\")"
   ]
  },
  {
   "cell_type": "code",
   "execution_count": 29,
   "metadata": {},
   "outputs": [],
   "source": [
    "# output solution with detail\n",
    "def getSolutionDetail(model):\n",
    "    solution=model.optimize().to_frame()\n",
    "    df=pd.DataFrame()\n",
    "    for i in solution.index:\n",
    "        reaction=model.reactions.get_by_id(i)\n",
    "        df[i]=pd.Series({'Reaction identifier': reaction.id, \\\n",
    "            'Stoichiometry':reaction.build_reaction_string(use_metabolite_names=True), \\\n",
    "            'GPR':reaction.gene_name_reaction_rule}) \n",
    "    return solution.join(df.T)\n",
    "getSolutionDetail(iMR).to_csv(\"iMR.FBAsolution.csv\")"
   ]
  },
  {
   "cell_type": "code",
   "execution_count": 53,
   "metadata": {},
   "outputs": [],
   "source": [
    "# output exchange_fluxes summary\n",
    "summary=iMR.summary().to_frame()\n",
    "summary.to_csv(\"iMR.exchange_fluxes.csv\")\n",
    "# output exchange_fluxes summary detail\n",
    "id=list(summary.iloc[:, 0])+list(summary.iloc[:2, 2])\n",
    "df=pd.DataFrame()\n",
    "for i in id:\n",
    "    compound=iMR.metabolites.get_by_id(i)\n",
    "    df[i]=pd.Series({'Metabolite identifier': compound.id, 'Name':compound.name, \\\n",
    "        'Formula':compound.formula}) \n",
    "df.T.to_csv(\"iMR.exchange_fluxes.detail.csv\")"
   ]
  },
  {
   "cell_type": "code",
   "execution_count": 54,
   "metadata": {},
   "outputs": [
    {
     "output_type": "execute_result",
     "data": {
      "text/plain": "     IN_FLUXES               OUT_FLUXES            OBJECTIVES          \n            ID        FLUX           ID       FLUX         ID      FLUX\n0  cpd11640_e0  190.527078  cpd00001_e0  93.716251   biomass0  0.097315\n1  cpd00011_e0   45.257937  cpd01024_e0  50.000000        NaN       NaN\n2  cpd00029_e0    3.666756          NaN        NaN        NaN       NaN",
      "text/html": "<div>\n<style scoped>\n    .dataframe tbody tr th:only-of-type {\n        vertical-align: middle;\n    }\n\n    .dataframe tbody tr th {\n        vertical-align: top;\n    }\n\n    .dataframe thead tr th {\n        text-align: left;\n    }\n</style>\n<table border=\"1\" class=\"dataframe\">\n  <thead>\n    <tr>\n      <th></th>\n      <th colspan=\"2\" halign=\"left\">IN_FLUXES</th>\n      <th colspan=\"2\" halign=\"left\">OUT_FLUXES</th>\n      <th colspan=\"2\" halign=\"left\">OBJECTIVES</th>\n    </tr>\n    <tr>\n      <th></th>\n      <th>ID</th>\n      <th>FLUX</th>\n      <th>ID</th>\n      <th>FLUX</th>\n      <th>ID</th>\n      <th>FLUX</th>\n    </tr>\n  </thead>\n  <tbody>\n    <tr>\n      <th>0</th>\n      <td>cpd11640_e0</td>\n      <td>190.527078</td>\n      <td>cpd00001_e0</td>\n      <td>93.716251</td>\n      <td>biomass0</td>\n      <td>0.097315</td>\n    </tr>\n    <tr>\n      <th>1</th>\n      <td>cpd00011_e0</td>\n      <td>45.257937</td>\n      <td>cpd01024_e0</td>\n      <td>50.000000</td>\n      <td>NaN</td>\n      <td>NaN</td>\n    </tr>\n    <tr>\n      <th>2</th>\n      <td>cpd00029_e0</td>\n      <td>3.666756</td>\n      <td>NaN</td>\n      <td>NaN</td>\n      <td>NaN</td>\n      <td>NaN</td>\n    </tr>\n  </tbody>\n</table>\n</div>"
     },
     "metadata": {},
     "execution_count": 54
    }
   ],
   "source": [
    "summary\n"
   ]
  },
  {
   "cell_type": "code",
   "execution_count": 41,
   "metadata": {},
   "outputs": [
    {
     "output_type": "execute_result",
     "data": {
      "text/plain": "     IN_FLUXES               OUT_FLUXES            OBJECTIVES          \n            ID        FLUX           ID       FLUX         ID      FLUX\n0  cpd11640_e0  190.527078  cpd00001_e0  93.716251   biomass0  0.097315\n1  cpd00011_e0   45.257937  cpd01024_e0  50.000000        NaN       NaN\n2  cpd00029_e0    3.666756          NaN        NaN        NaN       NaN",
      "text/html": "<div>\n<style scoped>\n    .dataframe tbody tr th:only-of-type {\n        vertical-align: middle;\n    }\n\n    .dataframe tbody tr th {\n        vertical-align: top;\n    }\n\n    .dataframe thead tr th {\n        text-align: left;\n    }\n</style>\n<table border=\"1\" class=\"dataframe\">\n  <thead>\n    <tr>\n      <th></th>\n      <th colspan=\"2\" halign=\"left\">IN_FLUXES</th>\n      <th colspan=\"2\" halign=\"left\">OUT_FLUXES</th>\n      <th colspan=\"2\" halign=\"left\">OBJECTIVES</th>\n    </tr>\n    <tr>\n      <th></th>\n      <th>ID</th>\n      <th>FLUX</th>\n      <th>ID</th>\n      <th>FLUX</th>\n      <th>ID</th>\n      <th>FLUX</th>\n    </tr>\n  </thead>\n  <tbody>\n    <tr>\n      <th>0</th>\n      <td>cpd11640_e0</td>\n      <td>190.527078</td>\n      <td>cpd00001_e0</td>\n      <td>93.716251</td>\n      <td>biomass0</td>\n      <td>0.097315</td>\n    </tr>\n    <tr>\n      <th>1</th>\n      <td>cpd00011_e0</td>\n      <td>45.257937</td>\n      <td>cpd01024_e0</td>\n      <td>50.000000</td>\n      <td>NaN</td>\n      <td>NaN</td>\n    </tr>\n    <tr>\n      <th>2</th>\n      <td>cpd00029_e0</td>\n      <td>3.666756</td>\n      <td>NaN</td>\n      <td>NaN</td>\n      <td>NaN</td>\n      <td>NaN</td>\n    </tr>\n  </tbody>\n</table>\n</div>"
     },
     "metadata": {},
     "execution_count": 41
    }
   ],
   "source": [
    "summary"
   ]
  },
  {
   "cell_type": "code",
   "execution_count": 48,
   "metadata": {},
   "outputs": [
    {
     "output_type": "execute_result",
     "data": {
      "text/plain": "['cpd00001_e0', 'cpd01024_e0']"
     },
     "metadata": {},
     "execution_count": 48
    }
   ],
   "source": [
    "list(summary.iloc[:2, 2])"
   ]
  }
 ]
}