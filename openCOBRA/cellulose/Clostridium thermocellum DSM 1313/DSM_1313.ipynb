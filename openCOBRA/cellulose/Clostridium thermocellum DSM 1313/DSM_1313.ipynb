{
 "cells": [
  {
   "cell_type": "code",
   "execution_count": 1,
   "metadata": {},
   "outputs": [],
   "source": [
    "import cobra.test\n",
    "import cobra.io\n",
    "from cobra.sampling import sample\n",
    "import pandas as pd\n",
    "from matplotlib import pyplot as plt \n",
    "import numpy as np"
   ]
  },
  {
   "cell_type": "code",
   "execution_count": 5,
   "metadata": {
    "tags": []
   },
   "outputs": [
    {
     "name": "stderr",
     "output_type": "stream",
     "text": [
      "Removing parenthesis from gpr ( Clo1313_1355; or Clo1313_1353; or Clo1313_1356 ) leads to an error, so keeping parenthesis\n",
      "cobra/core/reaction.py:446 \u001b[1;31mUserWarning\u001b[0m: malformed gene_reaction_rule '( Clo1313_1355; or Clo1313_1353; or Clo1313_1356 )' for <Reaction R01197_c at 0x7fcf88c5ab90>\n",
      "Removing parenthesis from gpr ( Clo1313_2018; or Clo1313_2017 ) leads to an error, so keeping parenthesis\n",
      "cobra/core/reaction.py:446 \u001b[1;31mUserWarning\u001b[0m: malformed gene_reaction_rule '( Clo1313_2018; or Clo1313_2017 )' for <Reaction R03660_c at 0x7fcf88a6cd10>\n"
     ]
    }
   ],
   "source": [
    "#cobra.io.validate_sbml_model(\"iAT601.xml\")\n",
    "#cobra.io.validate_sbml_model(\"cellulose.xml\")\n",
    "# UserWarning: malformed gene_reaction_rule 'Clo1313_1355; Clo1313_1353; Clo1313_1356' for <Reaction R01197_c at 0x7f8ca7c5a250>\n",
    "# UserWarning: malformed gene_reaction_rule 'Clo1313_2018; Clo1313_2017' for <Reaction R03660_c at 0x7f8ca7a0e8d0>\n",
    "# changed in cellulose_revised.xml\n",
    "cellulose=cobra.io.read_sbml_model(\"cellulose_repaired.xml\")"
   ]
  },
  {
   "cell_type": "code",
   "execution_count": 10,
   "metadata": {},
   "outputs": [
    {
     "name": "stdout",
     "output_type": "stream",
     "text": [
      "EXC_IN_m20\n",
      "EXC_IN_m17\n",
      "EXC_IN_m21\n",
      "EXC_IN_m22\n",
      "EXC_IN_m23\n",
      "EXC_IN_m24\n",
      "EXC_IN_m25\n",
      "EXC_IN_m26\n",
      "EXC_IN_m27\n",
      "EXC_IN_m28\n",
      "EXC_IN_m29\n",
      "EXC_IN_m30\n",
      "EXC_IN_m97\n",
      "EXC_IN_m98\n",
      "EXC_IN_m99\n",
      "EXC_IN_m100\n",
      "EXC_IN_m101\n",
      "EXC_OUT_m51\n",
      "EXC_OUT_m52\n",
      "EXC_OUT_m53\n",
      "EXC_OUT_m54\n",
      "EXC_OUT_m55\n",
      "EXC_OUT_m56\n",
      "EXC_OUT_m57\n",
      "EXC_OUT_m86\n",
      "EXC_OUT_m90\n",
      "EXC_OUT_m103\n",
      "EXC_OUT_m105\n",
      "EXC_OUT_m106\n",
      "EXC_OUT_m107\n",
      "EXC_OUT_m108\n",
      "EXC_OUT_m109\n",
      "EXC_OUT_m110\n",
      "EXC_OUT_m111\n",
      "EXC_OUT_m112\n",
      "EXC_BOTH_m18\n",
      "EXC_BOTH_m19\n",
      "EXC_BOTH_m31\n",
      "EXC_BOTH_m32\n",
      "EXC_BOTH_m33\n",
      "EXC_BOTH_m34\n",
      "EXC_BOTH_m35\n",
      "EXC_BOTH_m36\n",
      "EXC_BOTH_m37\n",
      "EXC_BOTH_m38\n",
      "EXC_BOTH_m39\n",
      "EXC_BOTH_m40\n",
      "EXC_BOTH_m41\n",
      "EXC_BOTH_m42\n",
      "EXC_BOTH_m43\n",
      "EXC_BOTH_m44\n",
      "EXC_BOTH_m45\n",
      "EXC_BOTH_m46\n",
      "EXC_BOTH_m47\n",
      "EXC_BOTH_m48\n",
      "EXC_BOTH_m49\n",
      "EXC_BOTH_m50\n"
     ]
    }
   ],
   "source": [
    "cellulose.medium\n",
    "# output exchage reaction in medium\n",
    "for i in cellulose.reactions:\n",
    "    id=i.id\n",
    "    if id.startswith(\"EXC_\"):\n",
    "        print(id)"
   ]
  },
  {
   "cell_type": "code",
   "execution_count": 6,
   "metadata": {},
   "outputs": [
    {
     "data": {
      "text/html": [
       "<div>\n",
       "<style scoped>\n",
       "    .dataframe tbody tr th:only-of-type {\n",
       "        vertical-align: middle;\n",
       "    }\n",
       "\n",
       "    .dataframe tbody tr th {\n",
       "        vertical-align: top;\n",
       "    }\n",
       "\n",
       "    .dataframe thead tr th {\n",
       "        text-align: left;\n",
       "    }\n",
       "</style>\n",
       "<table border=\"1\" class=\"dataframe\">\n",
       "  <thead>\n",
       "    <tr>\n",
       "      <th></th>\n",
       "      <th colspan=\"2\" halign=\"left\">IN_FLUXES</th>\n",
       "      <th colspan=\"2\" halign=\"left\">OUT_FLUXES</th>\n",
       "      <th colspan=\"2\" halign=\"left\">OBJECTIVES</th>\n",
       "    </tr>\n",
       "    <tr>\n",
       "      <th></th>\n",
       "      <th>ID</th>\n",
       "      <th>FLUX</th>\n",
       "      <th>ID</th>\n",
       "      <th>FLUX</th>\n",
       "      <th>ID</th>\n",
       "      <th>FLUX</th>\n",
       "    </tr>\n",
       "  </thead>\n",
       "  <tbody>\n",
       "    <tr>\n",
       "      <th>0</th>\n",
       "      <td>m18[C_e]</td>\n",
       "      <td>2.548082</td>\n",
       "      <td>m55[C_e]</td>\n",
       "      <td>7.566737</td>\n",
       "      <td>R_BIO</td>\n",
       "      <td>0.305473</td>\n",
       "    </tr>\n",
       "    <tr>\n",
       "      <th>1</th>\n",
       "      <td>m21[C_e]</td>\n",
       "      <td>1.485671</td>\n",
       "      <td>m19[C_e]</td>\n",
       "      <td>6.178570</td>\n",
       "      <td>NaN</td>\n",
       "      <td>NaN</td>\n",
       "    </tr>\n",
       "    <tr>\n",
       "      <th>2</th>\n",
       "      <td>m97[C_e]</td>\n",
       "      <td>1.078000</td>\n",
       "      <td>m52[C_e]</td>\n",
       "      <td>3.550000</td>\n",
       "      <td>NaN</td>\n",
       "      <td>NaN</td>\n",
       "    </tr>\n",
       "    <tr>\n",
       "      <th>3</th>\n",
       "      <td>m26[C_e]</td>\n",
       "      <td>0.361766</td>\n",
       "      <td>m51[C_e]</td>\n",
       "      <td>2.600000</td>\n",
       "      <td>NaN</td>\n",
       "      <td>NaN</td>\n",
       "    </tr>\n",
       "    <tr>\n",
       "      <th>4</th>\n",
       "      <td>m35[C_e]</td>\n",
       "      <td>0.078701</td>\n",
       "      <td>m110[C_e]</td>\n",
       "      <td>1.681061</td>\n",
       "      <td>NaN</td>\n",
       "      <td>NaN</td>\n",
       "    </tr>\n",
       "    <tr>\n",
       "      <th>5</th>\n",
       "      <td>m24[C_e]</td>\n",
       "      <td>0.033191</td>\n",
       "      <td>m53[C_e]</td>\n",
       "      <td>1.390000</td>\n",
       "      <td>NaN</td>\n",
       "      <td>NaN</td>\n",
       "    </tr>\n",
       "    <tr>\n",
       "      <th>6</th>\n",
       "      <td>m23[C_e]</td>\n",
       "      <td>0.004782</td>\n",
       "      <td>m86[C_e]</td>\n",
       "      <td>0.305473</td>\n",
       "      <td>NaN</td>\n",
       "      <td>NaN</td>\n",
       "    </tr>\n",
       "    <tr>\n",
       "      <th>7</th>\n",
       "      <td>m30[C_e]</td>\n",
       "      <td>0.002243</td>\n",
       "      <td>m57[C_e]</td>\n",
       "      <td>0.060157</td>\n",
       "      <td>NaN</td>\n",
       "      <td>NaN</td>\n",
       "    </tr>\n",
       "    <tr>\n",
       "      <th>8</th>\n",
       "      <td>m27[C_e]</td>\n",
       "      <td>0.000162</td>\n",
       "      <td>m43[C_e]</td>\n",
       "      <td>0.020169</td>\n",
       "      <td>NaN</td>\n",
       "      <td>NaN</td>\n",
       "    </tr>\n",
       "    <tr>\n",
       "      <th>9</th>\n",
       "      <td>m22[C_e]</td>\n",
       "      <td>0.000151</td>\n",
       "      <td>NaN</td>\n",
       "      <td>NaN</td>\n",
       "      <td>NaN</td>\n",
       "      <td>NaN</td>\n",
       "    </tr>\n",
       "  </tbody>\n",
       "</table>\n",
       "</div>"
      ],
      "text/plain": [
       "<cobra.core.summary.model_summary.ModelSummary at 0x7fcf88a229d0>"
      ]
     },
     "execution_count": 6,
     "metadata": {},
     "output_type": "execute_result"
    }
   ],
   "source": [
    "solution=cellulose.optimize()\n",
    "cellulose.summary(solution=solution,threshold=0.00001)"
   ]
  },
  {
   "cell_type": "code",
   "execution_count": 48,
   "metadata": {},
   "outputs": [
    {
     "name": "stdout",
     "output_type": "stream",
     "text": [
      "m18[C_e] H2O_H2O\n",
      "m21[C_e] Urea_CH4N2O\n",
      "m97[C_e] Cellohexaose\n",
      "m26[C_e] Orthophosphate_H3O4P\n",
      "m35[C_e] L-Cysteine_C3H7NO2S\n",
      "m24[C_e] K+_\n",
      "m23[C_e] Mg2+_\n",
      "m30[C_e] Nicotinate D-ribonucleotide_C11H14NO9P\n",
      "m27[C_e] Fe3+_Fe\n",
      "m22[C_e] Ca2+_\n",
      "m55[C_e] Hydrogen_H2\n",
      "m19[C_e] CO2_CO2\n",
      "m52[C_e] Acetate_C2H4O2\n",
      "m51[C_e] Ethanol_C2H6O\n",
      "m110[C_e] Fumarate_C4H4O4\n",
      "m53[C_e] Formate_CH2O2\n",
      "m86[C_e] Biomass_\n",
      "m57[C_e] Succinate_C4H6O4\n",
      "m43[C_e] L-Methionine_C5H11NO2S\n"
     ]
    }
   ],
   "source": [
    "df=cellulose.summary(solution=solution,threshold=0.00001).to_frame()\n",
    "id=list(df.IN_FLUXES.ID)+list(df.OUT_FLUXES.ID)\n",
    "for i in id[:-1]:\n",
    "    print(i,cellulose.metabolites.get_by_id(i).name)"
   ]
  },
  {
   "cell_type": "code",
   "execution_count": 77,
   "metadata": {},
   "outputs": [],
   "source": [
    "# add constrain\n",
    "@np.vectorize\n",
    "def add_constrain(h2,c2h6o):\n",
    "    with cellulose as test:\n",
    "        test.reactions.EXC_OUT_m55.lower_bound=h2\n",
    "        test.reactions.EXC_OUT_m55.upper_bound=h2\n",
    "        test.reactions.EXC_OUT_m51.lower_bound=c2h6o\n",
    "        test.reactions.EXC_OUT_m51.upper_bound=c2h6o\n",
    "        a=test.slim_optimize()\n",
    "        if np.isnan(a):\n",
    "            a=0\n",
    "        return(a)"
   ]
  },
  {
   "cell_type": "code",
   "execution_count": 85,
   "metadata": {},
   "outputs": [],
   "source": [
    "x, y = np.mgrid[0:16:100j, 0:6:100j]  \n",
    "z = add_constrain(x, y)"
   ]
  },
  {
   "cell_type": "code",
   "execution_count": 90,
   "metadata": {},
   "outputs": [
    {
     "data": {
      "text/plain": [
       "<matplotlib.colorbar.Colorbar at 0x7ff4f96b6210>"
      ]
     },
     "execution_count": 90,
     "metadata": {},
     "output_type": "execute_result"
    },
    {
     "data": {
      "image/png": "[encoded data removed]",
      "text/plain": [
       "<Figure size 432x288 with 2 Axes>"
      ]
     },
     "metadata": {
      "needs_background": "light"
     },
     "output_type": "display_data"
    }
   ],
   "source": [
    "plt.imshow(z, extent=[0, 16, 0, 6], cmap=pl.cm.jet, origin=\"lower\") \n",
    "plt.colorbar()"
   ]
  },
  {
   "cell_type": "code",
   "execution_count": 3,
   "metadata": {},
   "outputs": [
    {
     "data": {
      "text/html": [
       "<div>\n",
       "<style scoped>\n",
       "    .dataframe tbody tr th:only-of-type {\n",
       "        vertical-align: middle;\n",
       "    }\n",
       "\n",
       "    .dataframe tbody tr th {\n",
       "        vertical-align: top;\n",
       "    }\n",
       "\n",
       "    .dataframe thead th {\n",
       "        text-align: right;\n",
       "    }\n",
       "</style>\n",
       "<table border=\"1\" class=\"dataframe\">\n",
       "  <thead>\n",
       "    <tr style=\"text-align: right;\">\n",
       "      <th></th>\n",
       "      <th>H2</th>\n",
       "      <th>C2H6O</th>\n",
       "      <th>C2H4O2</th>\n",
       "      <th>CH2O2</th>\n",
       "      <th>Biomass</th>\n",
       "    </tr>\n",
       "  </thead>\n",
       "  <tbody>\n",
       "    <tr>\n",
       "      <th>0</th>\n",
       "      <td>8.879756</td>\n",
       "      <td>2.629363</td>\n",
       "      <td>3.549999</td>\n",
       "      <td>1.390000</td>\n",
       "      <td>0.305473</td>\n",
       "    </tr>\n",
       "    <tr>\n",
       "      <th>1</th>\n",
       "      <td>8.601943</td>\n",
       "      <td>2.631262</td>\n",
       "      <td>3.549997</td>\n",
       "      <td>1.390000</td>\n",
       "      <td>0.305473</td>\n",
       "    </tr>\n",
       "    <tr>\n",
       "      <th>2</th>\n",
       "      <td>8.606090</td>\n",
       "      <td>2.625336</td>\n",
       "      <td>3.549997</td>\n",
       "      <td>1.389999</td>\n",
       "      <td>0.305473</td>\n",
       "    </tr>\n",
       "    <tr>\n",
       "      <th>3</th>\n",
       "      <td>8.872785</td>\n",
       "      <td>2.644244</td>\n",
       "      <td>3.549999</td>\n",
       "      <td>1.389999</td>\n",
       "      <td>0.305473</td>\n",
       "    </tr>\n",
       "    <tr>\n",
       "      <th>4</th>\n",
       "      <td>8.957054</td>\n",
       "      <td>2.642566</td>\n",
       "      <td>3.550000</td>\n",
       "      <td>1.389999</td>\n",
       "      <td>0.305473</td>\n",
       "    </tr>\n",
       "    <tr>\n",
       "      <th>5</th>\n",
       "      <td>8.318807</td>\n",
       "      <td>2.629481</td>\n",
       "      <td>3.549996</td>\n",
       "      <td>1.389999</td>\n",
       "      <td>0.305473</td>\n",
       "    </tr>\n",
       "    <tr>\n",
       "      <th>6</th>\n",
       "      <td>8.868686</td>\n",
       "      <td>2.641969</td>\n",
       "      <td>3.549999</td>\n",
       "      <td>1.389999</td>\n",
       "      <td>0.305473</td>\n",
       "    </tr>\n",
       "    <tr>\n",
       "      <th>7</th>\n",
       "      <td>8.562167</td>\n",
       "      <td>2.629153</td>\n",
       "      <td>3.549999</td>\n",
       "      <td>1.390000</td>\n",
       "      <td>0.305473</td>\n",
       "    </tr>\n",
       "    <tr>\n",
       "      <th>8</th>\n",
       "      <td>8.769960</td>\n",
       "      <td>2.638255</td>\n",
       "      <td>3.549998</td>\n",
       "      <td>1.390000</td>\n",
       "      <td>0.305473</td>\n",
       "    </tr>\n",
       "    <tr>\n",
       "      <th>9</th>\n",
       "      <td>8.862651</td>\n",
       "      <td>2.612038</td>\n",
       "      <td>3.549998</td>\n",
       "      <td>1.390000</td>\n",
       "      <td>0.305473</td>\n",
       "    </tr>\n",
       "  </tbody>\n",
       "</table>\n",
       "</div>"
      ],
      "text/plain": [
       "         H2     C2H6O    C2H4O2     CH2O2   Biomass\n",
       "0  8.879756  2.629363  3.549999  1.390000  0.305473\n",
       "1  8.601943  2.631262  3.549997  1.390000  0.305473\n",
       "2  8.606090  2.625336  3.549997  1.389999  0.305473\n",
       "3  8.872785  2.644244  3.549999  1.389999  0.305473\n",
       "4  8.957054  2.642566  3.550000  1.389999  0.305473\n",
       "5  8.318807  2.629481  3.549996  1.389999  0.305473\n",
       "6  8.868686  2.641969  3.549999  1.389999  0.305473\n",
       "7  8.562167  2.629153  3.549999  1.390000  0.305473\n",
       "8  8.769960  2.638255  3.549998  1.390000  0.305473\n",
       "9  8.862651  2.612038  3.549998  1.390000  0.305473"
      ]
     },
     "execution_count": 3,
     "metadata": {},
     "output_type": "execute_result"
    }
   ],
   "source": [
    "# flux sample\n",
    "# https://cobrapy.readthedocs.io/en/latest/sampling.html?highlight=sample\n",
    "co = cellulose.problem.Constraint(cellulose.reactions.R_BIO.flux_expression, lb=0.305473,ub=0.305473)\n",
    "cellulose.add_cons_vars([co])\n",
    "s = sample(cellulose, 10)\n",
    "exc=s.loc[:,['EXC_OUT_m55','EXC_OUT_m51','EXC_OUT_m52','EXC_OUT_m53','R_BIO']]\n",
    "exc.columns=[\"H2\",\"C2H6O\",\"C2H4O2\",\"CH2O2\",\"Biomass\"]\n",
    "exc"
   ]
  },
  {
   "cell_type": "code",
   "execution_count": 4,
   "metadata": {},
   "outputs": [
    {
     "data": {
      "image/png": "[encoded data removed]",
      "text/plain": [
       "<Figure size 432x288 with 1 Axes>"
      ]
     },
     "metadata": {
      "needs_background": "light"
     },
     "output_type": "display_data"
    }
   ],
   "source": [
    "exc.boxplot()\n",
    "plt.show()"
   ]
  }
 ],
 "metadata": {
  "kernelspec": {
   "display_name": "Python 3.7.8 64-bit ('openCOBRA': conda)",
   "language": "python",
   "name": "python37864bitopencobraconda3b29111003364972920905d744e4bf25"
  },
  "language_info": {
   "codemirror_mode": {
    "name": "ipython",
    "version": 3
   },
   "file_extension": ".py",
   "mimetype": "text/x-python",
   "name": "python",
   "nbconvert_exporter": "python",
   "pygments_lexer": "ipython3",
   "version": "3.7.8"
  }
 },
 "nbformat": 4,
 "nbformat_minor": 4
}
