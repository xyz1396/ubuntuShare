{
 "cells": [
  {
   "cell_type": "markdown",
   "metadata": {},
   "source": [
    "Cellulose: (C6H10O5)n\n",
    "Cellohexaose: C36H62O31"
   ]
  },
  {
   "cell_type": "raw",
   "metadata": {},
   "source": [
    "1g cellulose -> 180.16/(12.01*6+10*1.00794+16*5)= 1.11g glucose\n",
    "1g cellohexaose -> 180.16/(12.01*36+62*1.00794+16*31)*6= 1.09g glucose\n",
    "1g cellulose -> 1.11/1.09=1.02g cellohexaose"
   ]
  },
  {
   "cell_type": "code",
   "execution_count": 4,
   "metadata": {},
   "outputs": [
    {
     "data": {
      "text/plain": [
       "1.1111426340544002"
      ]
     },
     "execution_count": 4,
     "metadata": {},
     "output_type": "execute_result"
    }
   ],
   "source": [
    "180.16/(12.01*6+10*1.00794+16*5)"
   ]
  },
  {
   "cell_type": "code",
   "execution_count": 5,
   "metadata": {},
   "outputs": [
    {
     "data": {
      "text/plain": [
       "1.0909396100900126"
      ]
     },
     "execution_count": 5,
     "metadata": {},
     "output_type": "execute_result"
    }
   ],
   "source": [
    "180.16/(12.01*36+62*1.00794+16*31)*6"
   ]
  },
  {
   "cell_type": "code",
   "execution_count": 6,
   "metadata": {},
   "outputs": [
    {
     "data": {
      "text/plain": [
       "1.0183486238532111"
      ]
     },
     "execution_count": 6,
     "metadata": {},
     "output_type": "execute_result"
    }
   ],
   "source": [
    "1.11/1.09"
   ]
  },
  {
   "cell_type": "raw",
   "metadata": {},
   "source": [
    "Title: Physiological and molecular characterizations of the interactions in two cellulose-to-methane cocultures\n",
    "table 1\n",
    "100ml medium\n",
    "consume 235mg cellulose in total\n",
    "in first 3 day comsume (3-1.9)*0.1*1000=110mg   \n",
    "Cellulose degradation rate 110/3=36.67mg/day -> 0.038 mM/day cellohexaose\n",
    "H2 production rate 0.32/3=0.107 mM/day"
   ]
  },
  {
   "cell_type": "code",
   "execution_count": 11,
   "metadata": {},
   "outputs": [
    {
     "data": {
      "text/plain": [
       "0.03774871467218101"
      ]
     },
     "execution_count": 11,
     "metadata": {},
     "output_type": "execute_result"
    }
   ],
   "source": [
    "36.67/1000*1.02/(12.01*36+62*1.00794+16*31)*1000"
   ]
  },
  {
   "cell_type": "raw",
   "metadata": {},
   "source": [
    "Formate 5.2/3=1.73 mM/day\n",
    "Acetate 1.5/3=0.5 mM/day\n",
    "Butyrate 3.4/3=1.13 mM/day\n",
    "Lactate 0.75/3=0.25 mM/day"
   ]
  },
  {
   "cell_type": "raw",
   "metadata": {},
   "source": [
    "Cell density 6E8/3=2E8 cells/ml/day"
   ]
  },
  {
   "cell_type": "code",
   "execution_count": 82,
   "metadata": {},
   "outputs": [
    {
     "data": {
      "text/html": [
       "<div>\n",
       "<style scoped>\n",
       "    .dataframe tbody tr th:only-of-type {\n",
       "        vertical-align: middle;\n",
       "    }\n",
       "\n",
       "    .dataframe tbody tr th {\n",
       "        vertical-align: top;\n",
       "    }\n",
       "\n",
       "    .dataframe thead th {\n",
       "        text-align: right;\n",
       "    }\n",
       "</style>\n",
       "<table border=\"1\" class=\"dataframe\">\n",
       "  <thead>\n",
       "    <tr style=\"text-align: right;\">\n",
       "      <th></th>\n",
       "      <th>Metabolites</th>\n",
       "      <th>Flux</th>\n",
       "      <th>Flux_relative</th>\n",
       "    </tr>\n",
       "  </thead>\n",
       "  <tbody>\n",
       "    <tr>\n",
       "      <th>0</th>\n",
       "      <td>Cellohexaose</td>\n",
       "      <td>0.038</td>\n",
       "      <td>1.000000</td>\n",
       "    </tr>\n",
       "    <tr>\n",
       "      <th>1</th>\n",
       "      <td>Hydrogen</td>\n",
       "      <td>0.107</td>\n",
       "      <td>2.815789</td>\n",
       "    </tr>\n",
       "    <tr>\n",
       "      <th>2</th>\n",
       "      <td>Formate</td>\n",
       "      <td>1.730</td>\n",
       "      <td>45.526316</td>\n",
       "    </tr>\n",
       "    <tr>\n",
       "      <th>3</th>\n",
       "      <td>Acetate</td>\n",
       "      <td>0.500</td>\n",
       "      <td>13.157895</td>\n",
       "    </tr>\n",
       "    <tr>\n",
       "      <th>4</th>\n",
       "      <td>Butyrate</td>\n",
       "      <td>1.130</td>\n",
       "      <td>29.736842</td>\n",
       "    </tr>\n",
       "    <tr>\n",
       "      <th>5</th>\n",
       "      <td>Lactate</td>\n",
       "      <td>0.250</td>\n",
       "      <td>6.578947</td>\n",
       "    </tr>\n",
       "  </tbody>\n",
       "</table>\n",
       "</div>"
      ],
      "text/plain": [
       "    Metabolites   Flux  Flux_relative\n",
       "0  Cellohexaose  0.038       1.000000\n",
       "1      Hydrogen  0.107       2.815789\n",
       "2       Formate  1.730      45.526316\n",
       "3       Acetate  0.500      13.157895\n",
       "4      Butyrate  1.130      29.736842\n",
       "5       Lactate  0.250       6.578947"
      ]
     },
     "execution_count": 82,
     "metadata": {},
     "output_type": "execute_result"
    }
   ],
   "source": [
    "# summary cellohexaose\n",
    "import pandas as pd\n",
    "import numpy as np\n",
    "Metabolites=[\"Cellohexaose\",\"Hydrogen\",\"Formate\",\"Acetate\",\"Butyrate\",\"Lactate\"]\n",
    "Flux=np.array([0.038,0.107,1.73,0.5,1.13,0.25])\n",
    "Flux_relative=Flux/0.038\n",
    "experiment_estimate=pd.DataFrame.from_dict({\n",
    "    \"Metabolites\":Metabolites,\n",
    "    \"Flux\":Flux,\n",
    "    \"Flux_relative\":Flux_relative\n",
    "})\n",
    "experiment_estimate"
   ]
  },
  {
   "cell_type": "code",
   "execution_count": 81,
   "metadata": {},
   "outputs": [
    {
     "data": {
      "text/plain": [
       "0.2261634124709972"
      ]
     },
     "execution_count": 81,
     "metadata": {},
     "output_type": "execute_result"
    }
   ],
   "source": [
    "# caculate as cellulose C6H10O5 36.67 mg/day\n",
    "36.67/1000/(12.01*6+10*1.00794+16*5)*1000\n",
    "# Cellulose degradation rate 0.226 mM/day"
   ]
  },
  {
   "cell_type": "code",
   "execution_count": 85,
   "metadata": {},
   "outputs": [
    {
     "data": {
      "text/html": [
       "<div>\n",
       "<style scoped>\n",
       "    .dataframe tbody tr th:only-of-type {\n",
       "        vertical-align: middle;\n",
       "    }\n",
       "\n",
       "    .dataframe tbody tr th {\n",
       "        vertical-align: top;\n",
       "    }\n",
       "\n",
       "    .dataframe thead th {\n",
       "        text-align: right;\n",
       "    }\n",
       "</style>\n",
       "<table border=\"1\" class=\"dataframe\">\n",
       "  <thead>\n",
       "    <tr style=\"text-align: right;\">\n",
       "      <th></th>\n",
       "      <th>Metabolites</th>\n",
       "      <th>Flux</th>\n",
       "      <th>Flux_relative</th>\n",
       "    </tr>\n",
       "  </thead>\n",
       "  <tbody>\n",
       "    <tr>\n",
       "      <th>0</th>\n",
       "      <td>Cellulose</td>\n",
       "      <td>0.650</td>\n",
       "      <td>1.000000</td>\n",
       "    </tr>\n",
       "    <tr>\n",
       "      <th>1</th>\n",
       "      <td>Hydrogen</td>\n",
       "      <td>0.107</td>\n",
       "      <td>0.164615</td>\n",
       "    </tr>\n",
       "    <tr>\n",
       "      <th>2</th>\n",
       "      <td>Formate</td>\n",
       "      <td>1.730</td>\n",
       "      <td>2.661538</td>\n",
       "    </tr>\n",
       "    <tr>\n",
       "      <th>3</th>\n",
       "      <td>Acetate</td>\n",
       "      <td>0.500</td>\n",
       "      <td>0.769231</td>\n",
       "    </tr>\n",
       "    <tr>\n",
       "      <th>4</th>\n",
       "      <td>Butyrate</td>\n",
       "      <td>1.130</td>\n",
       "      <td>1.738462</td>\n",
       "    </tr>\n",
       "    <tr>\n",
       "      <th>5</th>\n",
       "      <td>Lactate</td>\n",
       "      <td>0.250</td>\n",
       "      <td>0.384615</td>\n",
       "    </tr>\n",
       "  </tbody>\n",
       "</table>\n",
       "</div>"
      ],
      "text/plain": [
       "  Metabolites   Flux  Flux_relative\n",
       "0   Cellulose  0.650       1.000000\n",
       "1    Hydrogen  0.107       0.164615\n",
       "2     Formate  1.730       2.661538\n",
       "3     Acetate  0.500       0.769231\n",
       "4    Butyrate  1.130       1.738462\n",
       "5     Lactate  0.250       0.384615"
      ]
     },
     "execution_count": 85,
     "metadata": {},
     "output_type": "execute_result"
    }
   ],
   "source": [
    "Metabolites=[\"Cellulose\",\"Hydrogen\",\"Formate\",\"Acetate\",\"Butyrate\",\"Lactate\"]\n",
    "Flux=np.array([0.226,0.107,1.73,0.5,1.13,0.25])\n",
    "Flux_relative=Flux/0.226\n",
    "experiment_estimate=pd.DataFrame.from_dict({\n",
    "    \"Metabolites\":Metabolites,\n",
    "    \"Flux\":Flux,\n",
    "    \"Flux_relative\":Flux_relative\n",
    "})\n",
    "experiment_estimate"
   ]
  },
  {
   "cell_type": "code",
   "execution_count": 86,
   "metadata": {},
   "outputs": [
    {
     "data": {
      "text/plain": [
       "0.6500000000000001"
      ]
     },
     "execution_count": 86,
     "metadata": {},
     "output_type": "execute_result"
    }
   ],
   "source": [
    "# 117 mg/day Cellulose degradation\n",
    "117/1000/(12*6+12+6*16)*1000\n",
    "# Cellulose degradation rate 0.65 mM/day"
   ]
  },
  {
   "cell_type": "code",
   "execution_count": 87,
   "metadata": {},
   "outputs": [
    {
     "data": {
      "text/html": [
       "<div>\n",
       "<style scoped>\n",
       "    .dataframe tbody tr th:only-of-type {\n",
       "        vertical-align: middle;\n",
       "    }\n",
       "\n",
       "    .dataframe tbody tr th {\n",
       "        vertical-align: top;\n",
       "    }\n",
       "\n",
       "    .dataframe thead th {\n",
       "        text-align: right;\n",
       "    }\n",
       "</style>\n",
       "<table border=\"1\" class=\"dataframe\">\n",
       "  <thead>\n",
       "    <tr style=\"text-align: right;\">\n",
       "      <th></th>\n",
       "      <th>Metabolites</th>\n",
       "      <th>Flux</th>\n",
       "      <th>Flux_relative</th>\n",
       "    </tr>\n",
       "  </thead>\n",
       "  <tbody>\n",
       "    <tr>\n",
       "      <th>0</th>\n",
       "      <td>Cellulose</td>\n",
       "      <td>0.650</td>\n",
       "      <td>1.000000</td>\n",
       "    </tr>\n",
       "    <tr>\n",
       "      <th>1</th>\n",
       "      <td>Hydrogen</td>\n",
       "      <td>0.107</td>\n",
       "      <td>0.164615</td>\n",
       "    </tr>\n",
       "    <tr>\n",
       "      <th>2</th>\n",
       "      <td>Formate</td>\n",
       "      <td>1.730</td>\n",
       "      <td>2.661538</td>\n",
       "    </tr>\n",
       "    <tr>\n",
       "      <th>3</th>\n",
       "      <td>Acetate</td>\n",
       "      <td>0.500</td>\n",
       "      <td>0.769231</td>\n",
       "    </tr>\n",
       "    <tr>\n",
       "      <th>4</th>\n",
       "      <td>Butyrate</td>\n",
       "      <td>1.130</td>\n",
       "      <td>1.738462</td>\n",
       "    </tr>\n",
       "    <tr>\n",
       "      <th>5</th>\n",
       "      <td>Lactate</td>\n",
       "      <td>0.250</td>\n",
       "      <td>0.384615</td>\n",
       "    </tr>\n",
       "  </tbody>\n",
       "</table>\n",
       "</div>"
      ],
      "text/plain": [
       "  Metabolites   Flux  Flux_relative\n",
       "0   Cellulose  0.650       1.000000\n",
       "1    Hydrogen  0.107       0.164615\n",
       "2     Formate  1.730       2.661538\n",
       "3     Acetate  0.500       0.769231\n",
       "4    Butyrate  1.130       1.738462\n",
       "5     Lactate  0.250       0.384615"
      ]
     },
     "execution_count": 87,
     "metadata": {},
     "output_type": "execute_result"
    }
   ],
   "source": [
    "Metabolites=[\"Cellulose\",\"Hydrogen\",\"Formate\",\"Acetate\",\"Butyrate\",\"Lactate\"]\n",
    "Flux=np.array([0.65,0.107,1.73,0.5,1.13,0.25])\n",
    "Flux_relative=Flux/0.65\n",
    "experiment_estimate=pd.DataFrame.from_dict({\n",
    "    \"Metabolites\":Metabolites,\n",
    "    \"Flux\":Flux,\n",
    "    \"Flux_relative\":Flux_relative\n",
    "})\n",
    "experiment_estimate"
   ]
  },
  {
   "cell_type": "code",
   "execution_count": 12,
   "metadata": {},
   "outputs": [],
   "source": [
    "import cobra.test\n",
    "import cobra.io\n",
    "from cobra.sampling import sample"
   ]
  },
  {
   "cell_type": "code",
   "execution_count": 41,
   "metadata": {},
   "outputs": [],
   "source": [
    "%%capture\n",
    "cellulose=cobra.io.read_sbml_model(\"cellulose_repaired.xml\")"
   ]
  },
  {
   "cell_type": "code",
   "execution_count": 77,
   "metadata": {},
   "outputs": [
    {
     "data": {
      "text/html": [
       "<div>\n",
       "<style scoped>\n",
       "    .dataframe tbody tr th:only-of-type {\n",
       "        vertical-align: middle;\n",
       "    }\n",
       "\n",
       "    .dataframe tbody tr th {\n",
       "        vertical-align: top;\n",
       "    }\n",
       "\n",
       "    .dataframe thead th {\n",
       "        text-align: right;\n",
       "    }\n",
       "</style>\n",
       "<table border=\"1\" class=\"dataframe\">\n",
       "  <thead>\n",
       "    <tr style=\"text-align: right;\">\n",
       "      <th></th>\n",
       "      <th>Cellohexaose</th>\n",
       "      <th>Hydrogen</th>\n",
       "      <th>Formate</th>\n",
       "      <th>Acetate</th>\n",
       "    </tr>\n",
       "  </thead>\n",
       "  <tbody>\n",
       "    <tr>\n",
       "      <th>0</th>\n",
       "      <td>1.076187</td>\n",
       "      <td>11.371858</td>\n",
       "      <td>1.389743</td>\n",
       "      <td>3.269916</td>\n",
       "    </tr>\n",
       "    <tr>\n",
       "      <th>1</th>\n",
       "      <td>1.075188</td>\n",
       "      <td>11.307028</td>\n",
       "      <td>1.389748</td>\n",
       "      <td>3.275080</td>\n",
       "    </tr>\n",
       "    <tr>\n",
       "      <th>2</th>\n",
       "      <td>1.074490</td>\n",
       "      <td>7.670890</td>\n",
       "      <td>1.388870</td>\n",
       "      <td>3.459505</td>\n",
       "    </tr>\n",
       "    <tr>\n",
       "      <th>3</th>\n",
       "      <td>1.075535</td>\n",
       "      <td>7.309338</td>\n",
       "      <td>1.388687</td>\n",
       "      <td>3.440319</td>\n",
       "    </tr>\n",
       "    <tr>\n",
       "      <th>4</th>\n",
       "      <td>1.077550</td>\n",
       "      <td>7.780128</td>\n",
       "      <td>1.388687</td>\n",
       "      <td>3.442609</td>\n",
       "    </tr>\n",
       "    <tr>\n",
       "      <th>5</th>\n",
       "      <td>1.076340</td>\n",
       "      <td>7.624504</td>\n",
       "      <td>1.388585</td>\n",
       "      <td>3.442134</td>\n",
       "    </tr>\n",
       "    <tr>\n",
       "      <th>6</th>\n",
       "      <td>1.076700</td>\n",
       "      <td>7.167789</td>\n",
       "      <td>1.388404</td>\n",
       "      <td>3.430729</td>\n",
       "    </tr>\n",
       "    <tr>\n",
       "      <th>7</th>\n",
       "      <td>1.077950</td>\n",
       "      <td>7.059804</td>\n",
       "      <td>1.388396</td>\n",
       "      <td>3.421030</td>\n",
       "    </tr>\n",
       "    <tr>\n",
       "      <th>8</th>\n",
       "      <td>1.077291</td>\n",
       "      <td>6.563739</td>\n",
       "      <td>1.387899</td>\n",
       "      <td>3.393702</td>\n",
       "    </tr>\n",
       "    <tr>\n",
       "      <th>9</th>\n",
       "      <td>1.077288</td>\n",
       "      <td>6.596791</td>\n",
       "      <td>1.387495</td>\n",
       "      <td>3.397676</td>\n",
       "    </tr>\n",
       "  </tbody>\n",
       "</table>\n",
       "</div>"
      ],
      "text/plain": [
       "   Cellohexaose   Hydrogen   Formate   Acetate\n",
       "0      1.076187  11.371858  1.389743  3.269916\n",
       "1      1.075188  11.307028  1.389748  3.275080\n",
       "2      1.074490   7.670890  1.388870  3.459505\n",
       "3      1.075535   7.309338  1.388687  3.440319\n",
       "4      1.077550   7.780128  1.388687  3.442609\n",
       "5      1.076340   7.624504  1.388585  3.442134\n",
       "6      1.076700   7.167789  1.388404  3.430729\n",
       "7      1.077950   7.059804  1.388396  3.421030\n",
       "8      1.077291   6.563739  1.387899  3.393702\n",
       "9      1.077288   6.596791  1.387495  3.397676"
      ]
     },
     "execution_count": 77,
     "metadata": {},
     "output_type": "execute_result"
    }
   ],
   "source": [
    "# cellulose.reactions.EXC_IN_m97.lower_bound=1.0517\n",
    "# cellulose.reactions.EXC_IN_m97.lower_bound=1.078\n",
    "# lb and up should in this range\n",
    "co = cellulose.problem.Constraint(cellulose.reactions.EXC_IN_m97.flux_expression, lb=1)\n",
    "cellulose.add_cons_vars([co])\n",
    "s = sample(cellulose, 10)\n",
    "exc=s.loc[:,['EXC_IN_m97','EXC_OUT_m55','EXC_OUT_m53','EXC_OUT_m52']]\n",
    "exc.columns=['Cellohexaose','Hydrogen','Formate','Acetate']\n",
    "exc"
   ]
  },
  {
   "cell_type": "code",
   "execution_count": 66,
   "metadata": {},
   "outputs": [],
   "source": [
    "%%capture\n",
    "cellulose=cobra.io.read_sbml_model(\"cellulose_repaired.xml\")"
   ]
  },
  {
   "cell_type": "code",
   "execution_count": 67,
   "metadata": {},
   "outputs": [
    {
     "data": {
      "text/html": [
       "<div>\n",
       "<style scoped>\n",
       "    .dataframe tbody tr th:only-of-type {\n",
       "        vertical-align: middle;\n",
       "    }\n",
       "\n",
       "    .dataframe tbody tr th {\n",
       "        vertical-align: top;\n",
       "    }\n",
       "\n",
       "    .dataframe thead th {\n",
       "        text-align: right;\n",
       "    }\n",
       "</style>\n",
       "<table border=\"1\" class=\"dataframe\">\n",
       "  <thead>\n",
       "    <tr style=\"text-align: right;\">\n",
       "      <th></th>\n",
       "      <th>Metabolites</th>\n",
       "      <th>Flux</th>\n",
       "    </tr>\n",
       "  </thead>\n",
       "  <tbody>\n",
       "    <tr>\n",
       "      <th>1</th>\n",
       "      <td>Cellohexaose</td>\n",
       "      <td>1.078</td>\n",
       "    </tr>\n",
       "    <tr>\n",
       "      <th>2</th>\n",
       "      <td>Hydrogen</td>\n",
       "      <td>7.56674</td>\n",
       "    </tr>\n",
       "    <tr>\n",
       "      <th>3</th>\n",
       "      <td>Formate</td>\n",
       "      <td>1.39</td>\n",
       "    </tr>\n",
       "    <tr>\n",
       "      <th>4</th>\n",
       "      <td>Acetate</td>\n",
       "      <td>3.55</td>\n",
       "    </tr>\n",
       "    <tr>\n",
       "      <th>5</th>\n",
       "      <td>Biomass</td>\n",
       "      <td>0.305473</td>\n",
       "    </tr>\n",
       "  </tbody>\n",
       "</table>\n",
       "</div>"
      ],
      "text/plain": [
       "    Metabolites      Flux\n",
       "1  Cellohexaose     1.078\n",
       "2      Hydrogen   7.56674\n",
       "3       Formate      1.39\n",
       "4       Acetate      3.55\n",
       "5       Biomass  0.305473"
      ]
     },
     "execution_count": 67,
     "metadata": {},
     "output_type": "execute_result"
    }
   ],
   "source": [
    "# no constrain\n",
    "solution=test.optimize()\n",
    "df=pd.DataFrame()\n",
    "df[1]=pd.Series({'Metabolites': 'Cellohexaose', 'Flux':solution.fluxes.EXC_IN_m97}) \n",
    "df[2]=pd.Series({'Metabolites': 'Hydrogen', 'Flux':solution.fluxes.EXC_OUT_m55}) \n",
    "df[3]=pd.Series({'Metabolites': 'Formate', 'Flux':solution.fluxes.EXC_OUT_m53})\n",
    "df[4]=pd.Series({'Metabolites': 'Acetate', 'Flux':solution.fluxes.EXC_OUT_m52})\n",
    "df[5]=pd.Series({'Metabolites': 'Biomass', 'Flux':solution.fluxes.R_BIO})\n",
    "df.T"
   ]
  },
  {
   "cell_type": "code",
   "execution_count": 65,
   "metadata": {},
   "outputs": [
    {
     "name": "stdout",
     "output_type": "stream",
     "text": [
      "    Metabolites      Flux\n",
      "1  Cellohexaose         1\n",
      "2      Hydrogen    7.4377\n",
      "3       Formate      1.39\n",
      "4       Acetate      3.55\n",
      "5       Biomass  0.284243\n"
     ]
    }
   ],
   "source": [
    "# constrain of Cellohexaose \n",
    "with cellulose as test:\n",
    "    test.reactions.EXC_IN_m97.lower_bound=1\n",
    "    test.reactions.EXC_IN_m97.upper_bound=1\n",
    "    solution=test.optimize()\n",
    "    df=pd.DataFrame()\n",
    "    df[1]=pd.Series({'Metabolites': 'Cellohexaose', 'Flux':solution.fluxes.EXC_IN_m97}) \n",
    "    df[2]=pd.Series({'Metabolites': 'Hydrogen', 'Flux':solution.fluxes.EXC_OUT_m55}) \n",
    "    df[3]=pd.Series({'Metabolites': 'Formate', 'Flux':solution.fluxes.EXC_OUT_m53})\n",
    "    df[4]=pd.Series({'Metabolites': 'Acetate', 'Flux':solution.fluxes.EXC_OUT_m52})\n",
    "    df[5]=pd.Series({'Metabolites': 'Biomass', 'Flux':solution.fluxes.R_BIO})\n",
    "    print(df.T)"
   ]
  },
  {
   "cell_type": "code",
   "execution_count": 68,
   "metadata": {},
   "outputs": [
    {
     "name": "stdout",
     "output_type": "stream",
     "text": [
      "    Metabolites      Flux\n",
      "1  Cellohexaose         1\n",
      "2      Hydrogen   2.81579\n",
      "3       Formate      1.39\n",
      "4       Acetate      3.25\n",
      "5       Biomass  0.224399\n"
     ]
    }
   ],
   "source": [
    "# constrain of Cellohexaose and Hydrogen\n",
    "with cellulose as test:\n",
    "    test.reactions.EXC_IN_m97.lower_bound=1\n",
    "    test.reactions.EXC_IN_m97.upper_bound=1\n",
    "    test.reactions.EXC_OUT_m55.lower_bound=2.815789\n",
    "    test.reactions.EXC_OUT_m55.upper_bound=2.815789\n",
    "    solution=test.optimize()\n",
    "    df=pd.DataFrame()\n",
    "    df[1]=pd.Series({'Metabolites': 'Cellohexaose', 'Flux':solution.fluxes.EXC_IN_m97}) \n",
    "    df[2]=pd.Series({'Metabolites': 'Hydrogen', 'Flux':solution.fluxes.EXC_OUT_m55}) \n",
    "    df[3]=pd.Series({'Metabolites': 'Formate', 'Flux':solution.fluxes.EXC_OUT_m53})\n",
    "    df[4]=pd.Series({'Metabolites': 'Acetate', 'Flux':solution.fluxes.EXC_OUT_m52})\n",
    "    df[5]=pd.Series({'Metabolites': 'Biomass', 'Flux':solution.fluxes.R_BIO})\n",
    "    print(df.T)"
   ]
  },
  {
   "cell_type": "code",
   "execution_count": 69,
   "metadata": {},
   "outputs": [
    {
     "name": "stdout",
     "output_type": "stream",
     "text": [
      "    Metabolites         Flux\n",
      "1  Cellohexaose            1\n",
      "2      Hydrogen      2.81579\n",
      "3       Formate      45.5263\n",
      "4       Acetate         3.55\n",
      "5       Biomass -1.79092e-14\n"
     ]
    },
    {
     "name": "stderr",
     "output_type": "stream",
     "text": [
      "cobra/util/solver.py:416 \u001b[1;31mUserWarning\u001b[0m: solver status is 'infeasible'\n"
     ]
    }
   ],
   "source": [
    "# constrain of Cellohexaose and Hyrogen Formate\n",
    "with cellulose as test:\n",
    "    test.reactions.EXC_IN_m97.lower_bound=1\n",
    "    test.reactions.EXC_IN_m97.upper_bound=1\n",
    "    test.reactions.EXC_OUT_m55.lower_bound=2.815789\n",
    "    test.reactions.EXC_OUT_m55.upper_bound=2.815789\n",
    "    test.reactions.EXC_OUT_m53.lower_bound=45.526316\n",
    "    test.reactions.EXC_OUT_m53.upper_bound=45.526316\n",
    "    solution=test.optimize()\n",
    "    df=pd.DataFrame()\n",
    "    df[1]=pd.Series({'Metabolites': 'Cellohexaose', 'Flux':solution.fluxes.EXC_IN_m97}) \n",
    "    df[2]=pd.Series({'Metabolites': 'Hydrogen', 'Flux':solution.fluxes.EXC_OUT_m55}) \n",
    "    df[3]=pd.Series({'Metabolites': 'Formate', 'Flux':solution.fluxes.EXC_OUT_m53})\n",
    "    df[4]=pd.Series({'Metabolites': 'Acetate', 'Flux':solution.fluxes.EXC_OUT_m52})\n",
    "    df[5]=pd.Series({'Metabolites': 'Biomass', 'Flux':solution.fluxes.R_BIO})\n",
    "    print(df.T)"
   ]
  },
  {
   "cell_type": "code",
   "execution_count": 73,
   "metadata": {},
   "outputs": [
    {
     "data": {
      "text/html": [
       "\n",
       "        <table>\n",
       "            <tr>\n",
       "                <td><strong>Metabolite identifier</strong></td><td>m97[C_e]</td>\n",
       "            </tr><tr>\n",
       "                <td><strong>Name</strong></td><td>Cellohexaose</td>\n",
       "            </tr><tr>\n",
       "                <td><strong>Memory address</strong></td>\n",
       "                <td>0x07f2acd81ff90</td>\n",
       "            </tr><tr>\n",
       "                <td><strong>Formula</strong></td><td></td>\n",
       "            </tr><tr>\n",
       "                <td><strong>Compartment</strong></td><td>C_e</td>\n",
       "            </tr><tr>\n",
       "                <td><strong>In 2 reaction(s)</strong></td><td>\n",
       "                    EXC_IN_m97, T_e_to_c_C06217_c</td>\n",
       "            </tr>\n",
       "        </table>"
      ],
      "text/plain": [
       "<Metabolite m97[C_e] at 0x7f2acd81ff90>"
      ]
     },
     "execution_count": 73,
     "metadata": {},
     "output_type": "execute_result"
    }
   ],
   "source": [
    "cellulose.metabolites.get_by_id(\"m97[C_e]\")"
   ]
  },
  {
   "cell_type": "code",
   "execution_count": 80,
   "metadata": {},
   "outputs": [
    {
     "data": {
      "text/html": [
       "\n",
       "        <table>\n",
       "            <tr>\n",
       "                <td><strong>Reaction identifier</strong></td><td>T_e_to_c_C06217_c</td>\n",
       "            </tr><tr>\n",
       "                <td><strong>Name</strong></td><td>Cellohexaose Uptake</td>\n",
       "            </tr><tr>\n",
       "                <td><strong>Memory address</strong></td>\n",
       "                <td>0x07f2acd1aef50</td>\n",
       "            </tr><tr>\n",
       "                <td><strong>Stoichiometry</strong></td>\n",
       "                <td>\n",
       "                    <p style='text-align:right'>C00001_c[C_c] + C00002_c[C_c] + m97[C_e] --> C00008_c[C_c] + C00009_c[C_c] + C06217_c[C_c]</p>\n",
       "                    <p style='text-align:right'>H2O + ATP + Cellohexaose --> ADP_C10H15N5O10P2 + Orthophosphate_H3O4P + Cellohexaose_C36H62O31</p>\n",
       "                </td>\n",
       "            </tr><tr>\n",
       "                <td><strong>GPR</strong></td><td>Clo1313_0077 or Clo1313_2786 or Clo1313_1194</td>\n",
       "            </tr><tr>\n",
       "                <td><strong>Lower bound</strong></td><td>0.0</td>\n",
       "            </tr><tr>\n",
       "                <td><strong>Upper bound</strong></td><td>1000.0</td>\n",
       "            </tr>\n",
       "        </table>\n",
       "        "
      ],
      "text/plain": [
       "<Reaction T_e_to_c_C06217_c at 0x7f2acd1aef50>"
      ]
     },
     "execution_count": 80,
     "metadata": {},
     "output_type": "execute_result"
    }
   ],
   "source": [
    "cellulose.reactions.T_e_to_c_C06217_c"
   ]
  }
 ],
 "metadata": {
  "kernelspec": {
   "display_name": "Python [conda env:openCOBRA]",
   "language": "python",
   "name": "conda-env-openCOBRA-py"
  },
  "language_info": {
   "codemirror_mode": {
    "name": "ipython",
    "version": 3
   },
   "file_extension": ".py",
   "mimetype": "text/x-python",
   "name": "python",
   "nbconvert_exporter": "python",
   "pygments_lexer": "ipython3",
   "version": "3.7.8"
  }
 },
 "nbformat": 4,
 "nbformat_minor": 4
}
