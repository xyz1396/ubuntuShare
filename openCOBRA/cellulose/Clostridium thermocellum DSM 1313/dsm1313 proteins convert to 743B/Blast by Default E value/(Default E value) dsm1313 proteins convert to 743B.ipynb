{
 "cells": [
  {
   "cell_type": "code",
   "execution_count": 1,
   "metadata": {},
   "outputs": [],
   "source": [
    "import cobra.test\n",
    "import cobra.io\n",
    "import pandas as pd"
   ]
  },
  {
   "cell_type": "code",
   "execution_count": 3,
   "metadata": {},
   "outputs": [
    {
     "name": "stderr",
     "output_type": "stream",
     "text": [
      "Removing parenthesis from gpr ( Clo1313_1355; or Clo1313_1353; or Clo1313_1356 ) leads to an error, so keeping parenthesis\n",
      "cobra/core/reaction.py:446 \u001b[1;31mUserWarning\u001b[0m: malformed gene_reaction_rule '( Clo1313_1355; or Clo1313_1353; or Clo1313_1356 )' for <Reaction R01197_c at 0x7f9b4f622e10>\n",
      "Removing parenthesis from gpr ( Clo1313_2018; or Clo1313_2017 ) leads to an error, so keeping parenthesis\n",
      "cobra/core/reaction.py:446 \u001b[1;31mUserWarning\u001b[0m: malformed gene_reaction_rule '( Clo1313_2018; or Clo1313_2017 )' for <Reaction R03660_c at 0x7f9b4f435390>\n"
     ]
    }
   ],
   "source": [
    "dsm=cobra.io.read_sbml_model(\"../../cellulose_repaired.xml\")"
   ]
  },
  {
   "cell_type": "code",
   "execution_count": 4,
   "metadata": {},
   "outputs": [],
   "source": [
    "df=pd.read_csv(\"dsm1313 to 743B.csv\")\n",
    "dsm1313=list(df.dsm1313)\n",
    "b743=list(df['743B'])\n",
    "for i,gene in enumerate(dsm.genes):\n",
    "    id = gene.id\n",
    "    if id in dsm1313:\n",
    "        dsm.genes[i].id=b743[dsm1313.index(id)]"
   ]
  },
  {
   "cell_type": "code",
   "execution_count": 7,
   "metadata": {},
   "outputs": [],
   "source": [
    "dsm.repair()\n",
    "cobra.io.write_sbml_model(dsm,filename=\"dsm1313_to_743B.xml\")"
   ]
  },
  {
   "cell_type": "code",
   "execution_count": 20,
   "metadata": {},
   "outputs": [
    {
     "data": {
      "text/html": [
       "\n",
       "        <table>\n",
       "            <tr>\n",
       "                <td><strong>Gene identifier</strong></td><td>Clocel_3784</td>\n",
       "            </tr><tr>\n",
       "                <td><strong>Name</strong></td><td>COBRAProtein154</td>\n",
       "            </tr><tr>\n",
       "                <td><strong>Memory address</strong></td>\n",
       "                <td>0x07f9b4f84ced0</td>\n",
       "            </tr><tr>\n",
       "                <td><strong>Functional</strong></td><td>True</td>\n",
       "            </tr><tr>\n",
       "                <td><strong>In 1 reaction(s)</strong></td><td>\n",
       "                    R00943_c</td>\n",
       "            </tr>\n",
       "        </table>"
      ],
      "text/plain": [
       "<Gene Clocel_3784 at 0x7f9b4f84ced0>"
      ]
     },
     "execution_count": 20,
     "metadata": {},
     "output_type": "execute_result"
    }
   ],
   "source": [
    "dsm.genes.get_by_id(\"Clocel_3784\")"
   ]
  },
  {
   "cell_type": "code",
   "execution_count": 21,
   "metadata": {},
   "outputs": [
    {
     "data": {
      "text/html": [
       "\n",
       "        <table>\n",
       "            <tr>\n",
       "                <td><strong>Reaction identifier</strong></td><td>R00943_c</td>\n",
       "            </tr><tr>\n",
       "                <td><strong>Name</strong></td><td>Formate:tetrahydrofolate ligase (ADP-forming)</td>\n",
       "            </tr><tr>\n",
       "                <td><strong>Memory address</strong></td>\n",
       "                <td>0x07f9b4f6a5950</td>\n",
       "            </tr><tr>\n",
       "                <td><strong>Stoichiometry</strong></td>\n",
       "                <td>\n",
       "                    <p style='text-align:right'>C00002_c[C_c] + C00058_c[C_c] + C00101_c[C_c] --> C00008_c[C_c] + C00009_c[C_c] + C00234_c[C_c]</p>\n",
       "                    <p style='text-align:right'>ATP + Formate_CH2O2 + Tetrahydrofolate_C19H23N7O6 --> ADP_C10H15N5O10P2 + Orthophosphate_H3O4P + 10-Formyltetrahydrofolate_C20H23N7O7</p>\n",
       "                </td>\n",
       "            </tr><tr>\n",
       "                <td><strong>GPR</strong></td><td>Clo1313_0030 or Clo1313_1011 or Clo1313_1012</td>\n",
       "            </tr><tr>\n",
       "                <td><strong>Lower bound</strong></td><td>0.0</td>\n",
       "            </tr><tr>\n",
       "                <td><strong>Upper bound</strong></td><td>1000.0</td>\n",
       "            </tr>\n",
       "        </table>\n",
       "        "
      ],
      "text/plain": [
       "<Reaction R00943_c at 0x7f9b4f6a5950>"
      ]
     },
     "execution_count": 21,
     "metadata": {},
     "output_type": "execute_result"
    }
   ],
   "source": [
    "dsm.reactions.get_by_id(\"R00943_c\")"
   ]
  },
  {
   "cell_type": "code",
   "execution_count": 29,
   "metadata": {},
   "outputs": [
    {
     "data": {
      "text/plain": [
       "'Clo1313_0030 or Clo1313_1011 or Clo1313_1012'"
      ]
     },
     "execution_count": 29,
     "metadata": {},
     "output_type": "execute_result"
    }
   ],
   "source": [
    "a=dsm.reactions.get_by_id(\"R00943_c\")\n",
    "a.gene_reaction_rule"
   ]
  },
  {
   "cell_type": "code",
   "execution_count": 32,
   "metadata": {},
   "outputs": [
    {
     "data": {
      "text/plain": [
       "'Clo1313_0030 or Clo1313_1011 or Clo1313_1012'"
      ]
     },
     "execution_count": 32,
     "metadata": {},
     "output_type": "execute_result"
    }
   ],
   "source": [
    "a.gene_name_reaction_rule"
   ]
  },
  {
   "cell_type": "code",
   "execution_count": 31,
   "metadata": {},
   "outputs": [
    {
     "data": {
      "text/plain": [
       "frozenset({<Gene Clocel_1615 at 0x7f9b4f84cfd0>,\n",
       "           <Gene Clocel_1616 at 0x7f9b4f852110>,\n",
       "           <Gene Clocel_3784 at 0x7f9b4f84ced0>})"
      ]
     },
     "execution_count": 31,
     "metadata": {},
     "output_type": "execute_result"
    }
   ],
   "source": [
    "a.genes"
   ]
  },
  {
   "cell_type": "code",
   "execution_count": 30,
   "metadata": {},
   "outputs": [
    {
     "data": {
      "text/plain": [
       "['__add__',\n",
       " '__class__',\n",
       " '__copy__',\n",
       " '__deepcopy__',\n",
       " '__delattr__',\n",
       " '__dict__',\n",
       " '__dir__',\n",
       " '__doc__',\n",
       " '__eq__',\n",
       " '__format__',\n",
       " '__ge__',\n",
       " '__getattribute__',\n",
       " '__getstate__',\n",
       " '__gt__',\n",
       " '__hash__',\n",
       " '__iadd__',\n",
       " '__imul__',\n",
       " '__init__',\n",
       " '__init_subclass__',\n",
       " '__isub__',\n",
       " '__le__',\n",
       " '__lt__',\n",
       " '__module__',\n",
       " '__mul__',\n",
       " '__ne__',\n",
       " '__new__',\n",
       " '__radd__',\n",
       " '__reduce__',\n",
       " '__reduce_ex__',\n",
       " '__repr__',\n",
       " '__setattr__',\n",
       " '__setstate__',\n",
       " '__sizeof__',\n",
       " '__str__',\n",
       " '__sub__',\n",
       " '__subclasshook__',\n",
       " '__weakref__',\n",
       " '_annotation',\n",
       " '_associate_gene',\n",
       " '_check_bounds',\n",
       " '_compartments',\n",
       " '_dissociate_gene',\n",
       " '_gene_reaction_rule',\n",
       " '_genes',\n",
       " '_id',\n",
       " '_lower_bound',\n",
       " '_metabolites',\n",
       " '_model',\n",
       " '_repr_html_',\n",
       " '_set_id_with_model',\n",
       " '_update_awareness',\n",
       " '_upper_bound',\n",
       " 'add_metabolites',\n",
       " 'annotation',\n",
       " 'boundary',\n",
       " 'bounds',\n",
       " 'build_reaction_from_string',\n",
       " 'build_reaction_string',\n",
       " 'check_mass_balance',\n",
       " 'compartments',\n",
       " 'copy',\n",
       " 'delete',\n",
       " 'flux',\n",
       " 'flux_expression',\n",
       " 'forward_variable',\n",
       " 'functional',\n",
       " 'gene_name_reaction_rule',\n",
       " 'gene_reaction_rule',\n",
       " 'genes',\n",
       " 'get_coefficient',\n",
       " 'get_coefficients',\n",
       " 'get_compartments',\n",
       " 'id',\n",
       " 'knock_out',\n",
       " 'lower_bound',\n",
       " 'metabolites',\n",
       " 'model',\n",
       " 'name',\n",
       " 'notes',\n",
       " 'objective_coefficient',\n",
       " 'products',\n",
       " 'reactants',\n",
       " 'reaction',\n",
       " 'reduced_cost',\n",
       " 'remove_from_model',\n",
       " 'reverse_id',\n",
       " 'reverse_variable',\n",
       " 'reversibility',\n",
       " 'subsystem',\n",
       " 'subtract_metabolites',\n",
       " 'summary',\n",
       " 'update_variable_bounds',\n",
       " 'upper_bound',\n",
       " 'x',\n",
       " 'y']"
      ]
     },
     "execution_count": 30,
     "metadata": {},
     "output_type": "execute_result"
    }
   ],
   "source": [
    "dir(a)"
   ]
  }
 ],
 "metadata": {
  "kernelspec": {
   "display_name": "Python [conda env:openCOBRA]",
   "language": "python",
   "name": "conda-env-openCOBRA-py"
  },
  "language_info": {
   "codemirror_mode": {
    "name": "ipython",
    "version": 3
   },
   "file_extension": ".py",
   "mimetype": "text/x-python",
   "name": "python",
   "nbconvert_exporter": "python",
   "pygments_lexer": "ipython3",
   "version": "3.7.8"
  }
 },
 "nbformat": 4,
 "nbformat_minor": 4
}
