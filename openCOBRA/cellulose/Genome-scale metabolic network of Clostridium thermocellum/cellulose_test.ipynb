{
 "cells": [
  {
   "cell_type": "code",
   "execution_count": 2,
   "metadata": {},
   "outputs": [],
   "source": [
    "import cobra.test\n",
    "import cobra.io\n",
    "import pandas as pd"
   ]
  },
  {
   "cell_type": "code",
   "execution_count": 3,
   "metadata": {
    "tags": []
   },
   "outputs": [
    {
     "data": {
      "text/html": [
       "\n",
       "        <table>\n",
       "            <tr>\n",
       "                <td><strong>Name</strong></td>\n",
       "                <td>MODEL1507180004</td>\n",
       "            </tr><tr>\n",
       "                <td><strong>Memory address</strong></td>\n",
       "                <td>0x07fb4897317d0</td>\n",
       "            </tr><tr>\n",
       "                <td><strong>Number of metabolites</strong></td>\n",
       "                <td>564</td>\n",
       "            </tr><tr>\n",
       "                <td><strong>Number of reactions</strong></td>\n",
       "                <td>581</td>\n",
       "            </tr><tr>\n",
       "                <td><strong>Number of groups</strong></td>\n",
       "                <td>0</td>\n",
       "            </tr><tr>\n",
       "                <td><strong>Objective expression</strong></td>\n",
       "                <td>1.0*biomass_target - 1.0*biomass_target_reverse_16213</td>\n",
       "            </tr><tr>\n",
       "                <td><strong>Compartments</strong></td>\n",
       "                <td>Cytosol, Extraorganism</td>\n",
       "            </tr>\n",
       "          </table>"
      ],
      "text/plain": [
       "<Model MODEL1507180004 at 0x7fb4897317d0>"
      ]
     },
     "metadata": {},
     "output_type": "display_data"
    }
   ],
   "source": [
    "cellulose=cobra.io.read_sbml_model(\"MODEL1507180004_url.xml\")\n",
    "display(cellulose)"
   ]
  },
  {
   "cell_type": "code",
   "execution_count": 8,
   "metadata": {},
   "outputs": [
    {
     "name": "stdout",
     "output_type": "stream",
     "text": [
      "SRC_nmn_e\n",
      "ESC_h2o_e\n",
      "SRC_co2_e\n",
      "SRC_fe3_e\n",
      "SRC_mg2_e\n",
      "ESC_succ_e\n",
      "SRC_pnto__R_e\n",
      "ESC_h_e\n",
      "SRC_k_e\n",
      "SRC_so4_e\n",
      "ESC_etoh_e\n",
      "ESC_gcald_e\n",
      "SRC_ca2_e\n",
      "SRC_pi_e\n",
      "ESC_co2_e\n",
      "SRC_cellulose_e\n",
      "SRC_h2s_e\n",
      "ESC_for_e\n",
      "SRC_nh4_e\n",
      "ESC_ac_e\n",
      "SRC_h2o_e\n"
     ]
    }
   ],
   "source": [
    "# output exchage reaction in medium\n",
    "for i in cellulose.reactions:\n",
    "    id=i.id\n",
    "    if id.endswith(\"_e\"):\n",
    "        print(id)"
   ]
  },
  {
   "cell_type": "code",
   "execution_count": 9,
   "metadata": {},
   "outputs": [
    {
     "data": {
      "text/html": [
       "\n",
       "        <table>\n",
       "            <tr>\n",
       "                <td><strong>Reaction identifier</strong></td><td>ESC_h_e</td>\n",
       "            </tr><tr>\n",
       "                <td><strong>Name</strong></td><td>. escape flux</td>\n",
       "            </tr><tr>\n",
       "                <td><strong>Memory address</strong></td>\n",
       "                <td>0x07fb487a5a910</td>\n",
       "            </tr><tr>\n",
       "                <td><strong>Stoichiometry</strong></td>\n",
       "                <td>\n",
       "                    <p style='text-align:right'>h_e --> </p>\n",
       "                    <p style='text-align:right'> --> </p>\n",
       "                </td>\n",
       "            </tr><tr>\n",
       "                <td><strong>GPR</strong></td><td></td>\n",
       "            </tr><tr>\n",
       "                <td><strong>Lower bound</strong></td><td>0.0</td>\n",
       "            </tr><tr>\n",
       "                <td><strong>Upper bound</strong></td><td>1000.0</td>\n",
       "            </tr>\n",
       "        </table>\n",
       "        "
      ],
      "text/plain": [
       "<Reaction ESC_h_e at 0x7fb487a5a910>"
      ]
     },
     "execution_count": 9,
     "metadata": {},
     "output_type": "execute_result"
    }
   ],
   "source": [
    "cellulose.reactions.ESC_h_e"
   ]
  },
  {
   "cell_type": "code",
   "execution_count": 16,
   "metadata": {
    "tags": []
   },
   "outputs": [
    {
     "data": {
      "text/plain": [
       "{'SRC_nmn_e': 1000.0,\n",
       " 'SRC_co2_e': 1000.0,\n",
       " 'SRC_fe3_e': 1000.0,\n",
       " 'SRC_mg2_e': 1000.0,\n",
       " 'SRC_pnto__R_e': 1000.0,\n",
       " 'SRC_k_e': 1000.0,\n",
       " 'SRC_so4_e': 1000.0,\n",
       " 'SRC_ca2_e': 1000.0,\n",
       " 'SRC_pi_e': 1000.0,\n",
       " 'SRC_cellulose_e': 1000.0,\n",
       " 'SRC_h2s_e': 1000.0,\n",
       " 'SRC_nh4_e': 1000.0,\n",
       " 'SRC_h2o_e': 1000.0}"
      ]
     },
     "execution_count": 16,
     "metadata": {},
     "output_type": "execute_result"
    }
   ],
   "source": [
    "cellulose.medium"
   ]
  },
  {
   "cell_type": "code",
   "execution_count": 18,
   "metadata": {},
   "outputs": [
    {
     "data": {
      "text/html": [
       "\n",
       "        <table>\n",
       "            <tr>\n",
       "                <td><strong>Metabolite identifier</strong></td><td>10fthf_c</td>\n",
       "            </tr><tr>\n",
       "                <td><strong>Name</strong></td><td></td>\n",
       "            </tr><tr>\n",
       "                <td><strong>Memory address</strong></td>\n",
       "                <td>0x07f622bfe2950</td>\n",
       "            </tr><tr>\n",
       "                <td><strong>Formula</strong></td><td></td>\n",
       "            </tr><tr>\n",
       "                <td><strong>Compartment</strong></td><td>Cytosol</td>\n",
       "            </tr><tr>\n",
       "                <td><strong>In 5 reaction(s)</strong></td><td>\n",
       "                    FTHFL, GARFTi, FMETTRS, AICART, MTHFC</td>\n",
       "            </tr>\n",
       "        </table>"
      ],
      "text/plain": [
       "<Metabolite 10fthf_c at 0x7f622bfe2950>"
      ]
     },
     "execution_count": 18,
     "metadata": {},
     "output_type": "execute_result"
    }
   ],
   "source": [
    "# the name can be found in 12918_2009_420_MOESM1_ESM.XLS\n",
    "cellulose.metabolites.get_by_id(\"10fthf_c\")"
   ]
  },
  {
   "cell_type": "code",
   "execution_count": 20,
   "metadata": {},
   "outputs": [
    {
     "data": {
      "text/html": [
       "\n",
       "        <table>\n",
       "            <tr>\n",
       "                <td><strong>Reaction identifier</strong></td><td>TEICH45</td>\n",
       "            </tr><tr>\n",
       "                <td><strong>Name</strong></td><td>R_teichuronic_acid__n45___unlinked__GalNAc_GlcA_repeated</td>\n",
       "            </tr><tr>\n",
       "                <td><strong>Memory address</strong></td>\n",
       "                <td>0x07f622b66c250</td>\n",
       "            </tr><tr>\n",
       "                <td><strong>Stoichiometry</strong></td>\n",
       "                <td>\n",
       "                    <p style='text-align:right'>45.0 uacgala_c + 45.0 udpglcur_c <=> 45.0 h_c + teich_45_CT_c + 45.0 udp_c + 45.0 ump_c</p>\n",
       "                    <p style='text-align:right'>45.0  + 45.0  <=> 45.0  +  + 45.0  + 45.0 </p>\n",
       "                </td>\n",
       "            </tr><tr>\n",
       "                <td><strong>GPR</strong></td><td></td>\n",
       "            </tr><tr>\n",
       "                <td><strong>Lower bound</strong></td><td>-1000.0</td>\n",
       "            </tr><tr>\n",
       "                <td><strong>Upper bound</strong></td><td>1000.0</td>\n",
       "            </tr>\n",
       "        </table>\n",
       "        "
      ],
      "text/plain": [
       "<Reaction TEICH45 at 0x7f622b66c250>"
      ]
     },
     "execution_count": 20,
     "metadata": {},
     "output_type": "execute_result"
    }
   ],
   "source": [
    "# the GPR can be found in 12918_2009_420_MOESM1_ESM.XLS\n",
    "cellulose.reactions.get_by_id(\"TEICH45\")"
   ]
  },
  {
   "cell_type": "code",
   "execution_count": 22,
   "metadata": {},
   "outputs": [],
   "source": [
    "#output solution with detail\n",
    "def getSolutionDetail(model):\n",
    "    solution=model.optimize().to_frame()\n",
    "    df=pd.DataFrame()\n",
    "    for i in solution.index:\n",
    "        reaction=model.reactions.get_by_id(i)\n",
    "        df[i]=pd.Series({'Reaction identifier': reaction.id, \\\n",
    "            'Stoichiometry':reaction.build_reaction_string()})\n",
    "    return solution.join(df.T)\n",
    "getSolutionDetail(cellulose).to_csv(\"cellulose.FBAsolution.csv\")"
   ]
  },
  {
   "cell_type": "code",
   "execution_count": 25,
   "metadata": {},
   "outputs": [
    {
     "data": {
      "text/html": [
       "<div>\n",
       "<style scoped>\n",
       "    .dataframe tbody tr th:only-of-type {\n",
       "        vertical-align: middle;\n",
       "    }\n",
       "\n",
       "    .dataframe tbody tr th {\n",
       "        vertical-align: top;\n",
       "    }\n",
       "\n",
       "    .dataframe thead tr th {\n",
       "        text-align: left;\n",
       "    }\n",
       "</style>\n",
       "<table border=\"1\" class=\"dataframe\">\n",
       "  <thead>\n",
       "    <tr>\n",
       "      <th></th>\n",
       "      <th colspan=\"2\" halign=\"left\">IN_FLUXES</th>\n",
       "      <th colspan=\"2\" halign=\"left\">OUT_FLUXES</th>\n",
       "      <th colspan=\"2\" halign=\"left\">OBJECTIVES</th>\n",
       "    </tr>\n",
       "    <tr>\n",
       "      <th></th>\n",
       "      <th>ID</th>\n",
       "      <th>FLUX</th>\n",
       "      <th>ID</th>\n",
       "      <th>FLUX</th>\n",
       "      <th>ID</th>\n",
       "      <th>FLUX</th>\n",
       "    </tr>\n",
       "  </thead>\n",
       "  <tbody>\n",
       "    <tr>\n",
       "      <th>0</th>\n",
       "      <td>cellulose_e</td>\n",
       "      <td>515.797495</td>\n",
       "      <td>co2_e</td>\n",
       "      <td>922.921209</td>\n",
       "      <td>biomass_target</td>\n",
       "      <td>11.48257</td>\n",
       "    </tr>\n",
       "    <tr>\n",
       "      <th>1</th>\n",
       "      <td>nh4_e</td>\n",
       "      <td>84.846335</td>\n",
       "      <td>etoh_e</td>\n",
       "      <td>711.902919</td>\n",
       "      <td>NaN</td>\n",
       "      <td>NaN</td>\n",
       "    </tr>\n",
       "    <tr>\n",
       "      <th>2</th>\n",
       "      <td>pi_e</td>\n",
       "      <td>14.667873</td>\n",
       "      <td>ac_e</td>\n",
       "      <td>162.200426</td>\n",
       "      <td>NaN</td>\n",
       "      <td>NaN</td>\n",
       "    </tr>\n",
       "  </tbody>\n",
       "</table>\n",
       "</div>"
      ],
      "text/plain": [
       "<cobra.core.summary.model_summary.ModelSummary at 0x7f6229ae35d0>"
      ]
     },
     "execution_count": 25,
     "metadata": {},
     "output_type": "execute_result"
    }
   ],
   "source": [
    "# output exchange_fluxes summary\n",
    "# produce ethanol and acetate\n",
    "summary=cellulose.summary().to_frame()\n",
    "summary.to_csv(\"cellulose.exchange_fluxes.csv\")\n",
    "cellulose.summary()"
   ]
  }
 ],
 "metadata": {
  "kernelspec": {
   "display_name": "Python 3.7.8 64-bit ('openCOBRA': conda)",
   "language": "python",
   "name": "python37864bitopencobraconda3b29111003364972920905d744e4bf25"
  },
  "language_info": {
   "codemirror_mode": {
    "name": "ipython",
    "version": 3
   },
   "file_extension": ".py",
   "mimetype": "text/x-python",
   "name": "python",
   "nbconvert_exporter": "python",
   "pygments_lexer": "ipython3",
   "version": "3.7.8"
  }
 },
 "nbformat": 4,
 "nbformat_minor": 4
}
