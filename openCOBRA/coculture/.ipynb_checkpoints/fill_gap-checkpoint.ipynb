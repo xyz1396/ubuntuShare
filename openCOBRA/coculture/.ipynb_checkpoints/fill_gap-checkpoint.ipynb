{
 "metadata": {
  "language_info": {
   "codemirror_mode": {
    "name": "ipython",
    "version": 3
   },
   "file_extension": ".py",
   "mimetype": "text/x-python",
   "name": "python",
   "nbconvert_exporter": "python",
   "pygments_lexer": "ipython3",
   "version": "3.7.8-final"
  },
  "orig_nbformat": 2,
  "kernelspec": {
   "name": "python37864bitopencobraconda3b29111003364972920905d744e4bf25",
   "display_name": "Python 3.7.8 64-bit ('openCOBRA': conda)"
  }
 },
 "nbformat": 4,
 "nbformat_minor": 2,
 "cells": [
  {
   "cell_type": "code",
   "execution_count": 54,
   "metadata": {},
   "outputs": [],
   "source": [
    "import cobra.test\n",
    "from cobra.flux_analysis import gapfill\n",
    "from cobra import Model, Reaction, Metabolite\n",
    "import pandas as pd"
   ]
  },
  {
   "cell_type": "code",
   "execution_count": 73,
   "metadata": {},
   "outputs": [
    {
     "output_type": "error",
     "ename": "KeyError",
     "evalue": "'EX_cpd00971_e0'",
     "traceback": [
      "\u001b[0;31m---------------------------------------------------------------------------\u001b[0m",
      "\u001b[0;31mKeyError\u001b[0m                                  Traceback (most recent call last)",
      "\u001b[0;32m<ipython-input-73-1b94cf20c141>\u001b[0m in \u001b[0;36m<module>\u001b[0;34m\u001b[0m\n\u001b[1;32m      5\u001b[0m \u001b[0;32mfor\u001b[0m \u001b[0mi\u001b[0m \u001b[0;32min\u001b[0m \u001b[0mmedium\u001b[0m\u001b[0;34m[\u001b[0m\u001b[0;34m\"compounds\"\u001b[0m\u001b[0;34m]\u001b[0m\u001b[0;34m:\u001b[0m\u001b[0;34m\u001b[0m\u001b[0;34m\u001b[0m\u001b[0m\n\u001b[1;32m      6\u001b[0m     \u001b[0mmedium_dict\u001b[0m\u001b[0;34m[\u001b[0m\u001b[0;34m\"EX_\"\u001b[0m\u001b[0;34m+\u001b[0m\u001b[0mi\u001b[0m\u001b[0;34m+\u001b[0m\u001b[0;34m\"_e0\"\u001b[0m\u001b[0;34m]\u001b[0m\u001b[0;34m=\u001b[0m\u001b[0;36m1000\u001b[0m\u001b[0;34m\u001b[0m\u001b[0;34m\u001b[0m\u001b[0m\n\u001b[0;32m----> 7\u001b[0;31m \u001b[0mcellulovorans\u001b[0m\u001b[0;34m.\u001b[0m\u001b[0mmedium\u001b[0m\u001b[0;34m=\u001b[0m\u001b[0mmedium_dict\u001b[0m\u001b[0;34m\u001b[0m\u001b[0;34m\u001b[0m\u001b[0m\n\u001b[0m",
      "\u001b[0;32m~/miniconda3/envs/openCOBRA/lib/python3.7/site-packages/cobra/core/model.py\u001b[0m in \u001b[0;36mmedium\u001b[0;34m(self, medium)\u001b[0m\n\u001b[1;32m    283\u001b[0m         \u001b[0mexchange_rxns\u001b[0m \u001b[0;34m=\u001b[0m \u001b[0mfrozenset\u001b[0m\u001b[0;34m(\u001b[0m\u001b[0mself\u001b[0m\u001b[0;34m.\u001b[0m\u001b[0mexchanges\u001b[0m\u001b[0;34m)\u001b[0m\u001b[0;34m\u001b[0m\u001b[0;34m\u001b[0m\u001b[0m\n\u001b[1;32m    284\u001b[0m         \u001b[0;32mfor\u001b[0m \u001b[0mrxn_id\u001b[0m\u001b[0;34m,\u001b[0m \u001b[0mbound\u001b[0m \u001b[0;32min\u001b[0m \u001b[0miteritems\u001b[0m\u001b[0;34m(\u001b[0m\u001b[0mmedium\u001b[0m\u001b[0;34m)\u001b[0m\u001b[0;34m:\u001b[0m\u001b[0;34m\u001b[0m\u001b[0;34m\u001b[0m\u001b[0m\n\u001b[0;32m--> 285\u001b[0;31m             \u001b[0mrxn\u001b[0m \u001b[0;34m=\u001b[0m \u001b[0mself\u001b[0m\u001b[0;34m.\u001b[0m\u001b[0mreactions\u001b[0m\u001b[0;34m.\u001b[0m\u001b[0mget_by_id\u001b[0m\u001b[0;34m(\u001b[0m\u001b[0mrxn_id\u001b[0m\u001b[0;34m)\u001b[0m\u001b[0;34m\u001b[0m\u001b[0;34m\u001b[0m\u001b[0m\n\u001b[0m\u001b[1;32m    286\u001b[0m             \u001b[0;32mif\u001b[0m \u001b[0mrxn\u001b[0m \u001b[0;32mnot\u001b[0m \u001b[0;32min\u001b[0m \u001b[0mexchange_rxns\u001b[0m\u001b[0;34m:\u001b[0m\u001b[0;34m\u001b[0m\u001b[0;34m\u001b[0m\u001b[0m\n\u001b[1;32m    287\u001b[0m                 logger.warn(\"%s does not seem to be an\"\n",
      "\u001b[0;32m~/miniconda3/envs/openCOBRA/lib/python3.7/site-packages/cobra/core/dictlist.py\u001b[0m in \u001b[0;36mget_by_id\u001b[0;34m(self, id)\u001b[0m\n\u001b[1;32m     56\u001b[0m     \u001b[0;32mdef\u001b[0m \u001b[0mget_by_id\u001b[0m\u001b[0;34m(\u001b[0m\u001b[0mself\u001b[0m\u001b[0;34m,\u001b[0m \u001b[0mid\u001b[0m\u001b[0;34m)\u001b[0m\u001b[0;34m:\u001b[0m\u001b[0;34m\u001b[0m\u001b[0;34m\u001b[0m\u001b[0m\n\u001b[1;32m     57\u001b[0m         \u001b[0;34m\"\"\"return the element with a matching id\"\"\"\u001b[0m\u001b[0;34m\u001b[0m\u001b[0;34m\u001b[0m\u001b[0m\n\u001b[0;32m---> 58\u001b[0;31m         \u001b[0;32mreturn\u001b[0m \u001b[0mlist\u001b[0m\u001b[0;34m.\u001b[0m\u001b[0m__getitem__\u001b[0m\u001b[0;34m(\u001b[0m\u001b[0mself\u001b[0m\u001b[0;34m,\u001b[0m \u001b[0mself\u001b[0m\u001b[0;34m.\u001b[0m\u001b[0m_dict\u001b[0m\u001b[0;34m[\u001b[0m\u001b[0mid\u001b[0m\u001b[0;34m]\u001b[0m\u001b[0;34m)\u001b[0m\u001b[0;34m\u001b[0m\u001b[0;34m\u001b[0m\u001b[0m\n\u001b[0m\u001b[1;32m     59\u001b[0m \u001b[0;34m\u001b[0m\u001b[0m\n\u001b[1;32m     60\u001b[0m     \u001b[0;32mdef\u001b[0m \u001b[0mlist_attr\u001b[0m\u001b[0;34m(\u001b[0m\u001b[0mself\u001b[0m\u001b[0;34m,\u001b[0m \u001b[0mattribute\u001b[0m\u001b[0;34m)\u001b[0m\u001b[0;34m:\u001b[0m\u001b[0;34m\u001b[0m\u001b[0;34m\u001b[0m\u001b[0m\n",
      "\u001b[0;31mKeyError\u001b[0m: 'EX_cpd00971_e0'"
     ]
    }
   ],
   "source": [
    "cellulovorans=cobra.io.read_sbml_model(\"fill_gap/Clostridium_cellulovorans_743B_model.xml\")\n",
    "# change medium\n",
    "medium=pd.read_csv(\"anaerobic_cellulose_medium_diy.tsv\",sep='\\t')\n",
    "medium_dict={}\n",
    "for i in medium[\"compounds\"]:\n",
    "    medium_dict[\"EX_\"+i+\"_e0\"]=1000\n",
    "cellulovorans.medium=medium_dict"
   ]
  },
  {
   "cell_type": "code",
   "execution_count": 72,
   "metadata": {},
   "outputs": [
    {
     "output_type": "execute_result",
     "data": {
      "text/plain": "   compounds        name          formula  minFlux  maxFlux  concentration\n0   cpd00971         Na+               Na     -100      100          0.001\n1   cpd00099         Cl-               Cl     -100      100          0.001\n2   cpd00254          Mg               Mg     -100      100          0.001\n3   cpd00205          K+                K     -100      100          0.001\n4   cpd00063        Ca2+               Ca     -100      100          0.001\n5   cpd00009   Phosphate             HO4P     -100      100          0.001\n6   cpd00013         NH3              H4N     -100      100          0.001\n7   cpd00067          H+                H     -100      100          0.001\n8   cpd00001         H2O              H2O     -100      100          0.001\n9   cpd00011         CO2              CO2     -100      100          0.001\n10  cpd00084  L-Cysteine         C3H7NO2S     -100      100          0.001\n11  cpd00239         H2S               HS     -100      100          0.001\n12  cpd00242       H2CO3             CHO3     -100      100          0.001\n13  cpd10515        Fe+2               Fe     -100      100          0.001\n14  cpd00149        Co2+               Co     -100      100          0.001\n15  cpd00030        Mn2+               Mn     -100      100          0.001\n16  cpd00034        Zn2+               Zn     -100      100          0.001\n17  cpd09225  Boric acid            H3BO3     -100      100          0.001\n18  cpd11574   Molybdate             MoO4     -100      100          0.001\n19  cpd00244        Ni2+               Ni     -100      100          0.001\n20  cpd00058        Cu2+               Cu     -100      100          0.001\n21  cpd03387    Selenite             O3Se     -100      100          0.001\n22  cpd15574   tungstate              O4W     -100      100          0.001\n23  cpd00104        BIOT      C10H15N2O3S     -100      100          0.001\n24  cpd00393      Folate       C19H17N7O6     -100      100          0.001\n25  cpd00263   Pyridoxol         C8H11NO3     -100      100          0.001\n26  cpd00220  Riboflavin       C17H19N4O6     -100      100          0.001\n27  cpd00305     Thiamin       C12H17N4OS     -100      100          0.001\n28  cpd00218      Niacin          C6H4NO2     -100      100          0.001\n29  cpd00644         PAN         C9H16NO5     -100      100          0.001\n30  cpd01826     Dicopac  C63H88CoN14O14P     -100      100          0.001\n31  cpd00443        ABEE          C7H6NO2     -100      100          0.001\n32  cpd00541     Lipoate        C8H13O2S2     -100      100          0.001\n33  cpd11746   Cellulose        C6H10O5R2     -100      100          0.001",
      "text/html": "<div>\n<style scoped>\n    .dataframe tbody tr th:only-of-type {\n        vertical-align: middle;\n    }\n\n    .dataframe tbody tr th {\n        vertical-align: top;\n    }\n\n    .dataframe thead th {\n        text-align: right;\n    }\n</style>\n<table border=\"1\" class=\"dataframe\">\n  <thead>\n    <tr style=\"text-align: right;\">\n      <th></th>\n      <th>compounds</th>\n      <th>name</th>\n      <th>formula</th>\n      <th>minFlux</th>\n      <th>maxFlux</th>\n      <th>concentration</th>\n    </tr>\n  </thead>\n  <tbody>\n    <tr>\n      <th>0</th>\n      <td>cpd00971</td>\n      <td>Na+</td>\n      <td>Na</td>\n      <td>-100</td>\n      <td>100</td>\n      <td>0.001</td>\n    </tr>\n    <tr>\n      <th>1</th>\n      <td>cpd00099</td>\n      <td>Cl-</td>\n      <td>Cl</td>\n      <td>-100</td>\n      <td>100</td>\n      <td>0.001</td>\n    </tr>\n    <tr>\n      <th>2</th>\n      <td>cpd00254</td>\n      <td>Mg</td>\n      <td>Mg</td>\n      <td>-100</td>\n      <td>100</td>\n      <td>0.001</td>\n    </tr>\n    <tr>\n      <th>3</th>\n      <td>cpd00205</td>\n      <td>K+</td>\n      <td>K</td>\n      <td>-100</td>\n      <td>100</td>\n      <td>0.001</td>\n    </tr>\n    <tr>\n      <th>4</th>\n      <td>cpd00063</td>\n      <td>Ca2+</td>\n      <td>Ca</td>\n      <td>-100</td>\n      <td>100</td>\n      <td>0.001</td>\n    </tr>\n    <tr>\n      <th>5</th>\n      <td>cpd00009</td>\n      <td>Phosphate</td>\n      <td>HO4P</td>\n      <td>-100</td>\n      <td>100</td>\n      <td>0.001</td>\n    </tr>\n    <tr>\n      <th>6</th>\n      <td>cpd00013</td>\n      <td>NH3</td>\n      <td>H4N</td>\n      <td>-100</td>\n      <td>100</td>\n      <td>0.001</td>\n    </tr>\n    <tr>\n      <th>7</th>\n      <td>cpd00067</td>\n      <td>H+</td>\n      <td>H</td>\n      <td>-100</td>\n      <td>100</td>\n      <td>0.001</td>\n    </tr>\n    <tr>\n      <th>8</th>\n      <td>cpd00001</td>\n      <td>H2O</td>\n      <td>H2O</td>\n      <td>-100</td>\n      <td>100</td>\n      <td>0.001</td>\n    </tr>\n    <tr>\n      <th>9</th>\n      <td>cpd00011</td>\n      <td>CO2</td>\n      <td>CO2</td>\n      <td>-100</td>\n      <td>100</td>\n      <td>0.001</td>\n    </tr>\n    <tr>\n      <th>10</th>\n      <td>cpd00084</td>\n      <td>L-Cysteine</td>\n      <td>C3H7NO2S</td>\n      <td>-100</td>\n      <td>100</td>\n      <td>0.001</td>\n    </tr>\n    <tr>\n      <th>11</th>\n      <td>cpd00239</td>\n      <td>H2S</td>\n      <td>HS</td>\n      <td>-100</td>\n      <td>100</td>\n      <td>0.001</td>\n    </tr>\n    <tr>\n      <th>12</th>\n      <td>cpd00242</td>\n      <td>H2CO3</td>\n      <td>CHO3</td>\n      <td>-100</td>\n      <td>100</td>\n      <td>0.001</td>\n    </tr>\n    <tr>\n      <th>13</th>\n      <td>cpd10515</td>\n      <td>Fe+2</td>\n      <td>Fe</td>\n      <td>-100</td>\n      <td>100</td>\n      <td>0.001</td>\n    </tr>\n    <tr>\n      <th>14</th>\n      <td>cpd00149</td>\n      <td>Co2+</td>\n      <td>Co</td>\n      <td>-100</td>\n      <td>100</td>\n      <td>0.001</td>\n    </tr>\n    <tr>\n      <th>15</th>\n      <td>cpd00030</td>\n      <td>Mn2+</td>\n      <td>Mn</td>\n      <td>-100</td>\n      <td>100</td>\n      <td>0.001</td>\n    </tr>\n    <tr>\n      <th>16</th>\n      <td>cpd00034</td>\n      <td>Zn2+</td>\n      <td>Zn</td>\n      <td>-100</td>\n      <td>100</td>\n      <td>0.001</td>\n    </tr>\n    <tr>\n      <th>17</th>\n      <td>cpd09225</td>\n      <td>Boric acid</td>\n      <td>H3BO3</td>\n      <td>-100</td>\n      <td>100</td>\n      <td>0.001</td>\n    </tr>\n    <tr>\n      <th>18</th>\n      <td>cpd11574</td>\n      <td>Molybdate</td>\n      <td>MoO4</td>\n      <td>-100</td>\n      <td>100</td>\n      <td>0.001</td>\n    </tr>\n    <tr>\n      <th>19</th>\n      <td>cpd00244</td>\n      <td>Ni2+</td>\n      <td>Ni</td>\n      <td>-100</td>\n      <td>100</td>\n      <td>0.001</td>\n    </tr>\n    <tr>\n      <th>20</th>\n      <td>cpd00058</td>\n      <td>Cu2+</td>\n      <td>Cu</td>\n      <td>-100</td>\n      <td>100</td>\n      <td>0.001</td>\n    </tr>\n    <tr>\n      <th>21</th>\n      <td>cpd03387</td>\n      <td>Selenite</td>\n      <td>O3Se</td>\n      <td>-100</td>\n      <td>100</td>\n      <td>0.001</td>\n    </tr>\n    <tr>\n      <th>22</th>\n      <td>cpd15574</td>\n      <td>tungstate</td>\n      <td>O4W</td>\n      <td>-100</td>\n      <td>100</td>\n      <td>0.001</td>\n    </tr>\n    <tr>\n      <th>23</th>\n      <td>cpd00104</td>\n      <td>BIOT</td>\n      <td>C10H15N2O3S</td>\n      <td>-100</td>\n      <td>100</td>\n      <td>0.001</td>\n    </tr>\n    <tr>\n      <th>24</th>\n      <td>cpd00393</td>\n      <td>Folate</td>\n      <td>C19H17N7O6</td>\n      <td>-100</td>\n      <td>100</td>\n      <td>0.001</td>\n    </tr>\n    <tr>\n      <th>25</th>\n      <td>cpd00263</td>\n      <td>Pyridoxol</td>\n      <td>C8H11NO3</td>\n      <td>-100</td>\n      <td>100</td>\n      <td>0.001</td>\n    </tr>\n    <tr>\n      <th>26</th>\n      <td>cpd00220</td>\n      <td>Riboflavin</td>\n      <td>C17H19N4O6</td>\n      <td>-100</td>\n      <td>100</td>\n      <td>0.001</td>\n    </tr>\n    <tr>\n      <th>27</th>\n      <td>cpd00305</td>\n      <td>Thiamin</td>\n      <td>C12H17N4OS</td>\n      <td>-100</td>\n      <td>100</td>\n      <td>0.001</td>\n    </tr>\n    <tr>\n      <th>28</th>\n      <td>cpd00218</td>\n      <td>Niacin</td>\n      <td>C6H4NO2</td>\n      <td>-100</td>\n      <td>100</td>\n      <td>0.001</td>\n    </tr>\n    <tr>\n      <th>29</th>\n      <td>cpd00644</td>\n      <td>PAN</td>\n      <td>C9H16NO5</td>\n      <td>-100</td>\n      <td>100</td>\n      <td>0.001</td>\n    </tr>\n    <tr>\n      <th>30</th>\n      <td>cpd01826</td>\n      <td>Dicopac</td>\n      <td>C63H88CoN14O14P</td>\n      <td>-100</td>\n      <td>100</td>\n      <td>0.001</td>\n    </tr>\n    <tr>\n      <th>31</th>\n      <td>cpd00443</td>\n      <td>ABEE</td>\n      <td>C7H6NO2</td>\n      <td>-100</td>\n      <td>100</td>\n      <td>0.001</td>\n    </tr>\n    <tr>\n      <th>32</th>\n      <td>cpd00541</td>\n      <td>Lipoate</td>\n      <td>C8H13O2S2</td>\n      <td>-100</td>\n      <td>100</td>\n      <td>0.001</td>\n    </tr>\n    <tr>\n      <th>33</th>\n      <td>cpd11746</td>\n      <td>Cellulose</td>\n      <td>C6H10O5R2</td>\n      <td>-100</td>\n      <td>100</td>\n      <td>0.001</td>\n    </tr>\n  </tbody>\n</table>\n</div>"
     },
     "metadata": {},
     "execution_count": 72
    }
   ],
   "source": [
    "medium"
   ]
  },
  {
   "cell_type": "code",
   "execution_count": 48,
   "metadata": {},
   "outputs": [],
   "source": [
    "# build model for gapfilling\n",
    "# search cellulose cpd11746 at https://modelseed.org/biochem/ in equation field\n",
    "# https://en.wikipedia.org/wiki/Cellulase\n",
    "cellulose = Model(\"cellulose_degradation\")\n",
    "\n",
    "CLLS_c = Metabolite(\n",
    "    'cpd11746_c0',\n",
    "    formula='C6H10O5R2',\n",
    "    name='Cellulose_c0',\n",
    "    compartment='c')\n",
    "\n",
    "reaction1 = Reaction('rxn15556_c0')\n",
    "reaction1.name = '1,4-beta-D-oligo-D-glucan:phosphate alpha-D-glucosyltransferase'\n",
    "reaction1.lower_bound = 0.  # This is the default\n",
    "reaction1.upper_bound = 1000.  # This is the default\n",
    "\n",
    "reaction1.add_metabolites({\n",
    "    cellulovorans.metabolites.get_by_id(\"cpd00009_c0\"): -1.0,\n",
    "    CLLS_c: -1.0,\n",
    "    cellulovorans.metabolites.get_by_id(\"cpd00089_c0\"): 1.0\n",
    "})\n",
    "\n",
    "# grep cellulase KBase_derived_Clostridium_cellulovorans_743B.gff\n",
    "# 3 Cellulase\n",
    "reaction1.gene_reaction_rule = '( CLOCEL_RS04585 or CLOCEL_RS14130 or CLOCEL_RS14155 )'\n",
    "\n",
    "cellulose.add_reactions([reaction1])"
   ]
  },
  {
   "cell_type": "code",
   "execution_count": 49,
   "metadata": {},
   "outputs": [
    {
     "output_type": "execute_result",
     "data": {
      "text/plain": "<Model cellulose_degradation at 0x7fdeb7f8e710>",
      "text/html": "\n        <table>\n            <tr>\n                <td><strong>Name</strong></td>\n                <td>cellulose_degradation</td>\n            </tr><tr>\n                <td><strong>Memory address</strong></td>\n                <td>0x07fdeb7f8e710</td>\n            </tr><tr>\n                <td><strong>Number of metabolites</strong></td>\n                <td>3</td>\n            </tr><tr>\n                <td><strong>Number of reactions</strong></td>\n                <td>1</td>\n            </tr><tr>\n                <td><strong>Number of groups</strong></td>\n                <td>0</td>\n            </tr><tr>\n                <td><strong>Objective expression</strong></td>\n                <td>0</td>\n            </tr><tr>\n                <td><strong>Compartments</strong></td>\n                <td>c0, c</td>\n            </tr>\n          </table>"
     },
     "metadata": {},
     "execution_count": 49
    }
   ],
   "source": [
    "cellulose"
   ]
  },
  {
   "cell_type": "code",
   "execution_count": null,
   "metadata": {},
   "outputs": [],
   "source": []
  }
 ]
}