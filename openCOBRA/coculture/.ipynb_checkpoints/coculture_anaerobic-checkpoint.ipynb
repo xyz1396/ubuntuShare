{
 "metadata": {
  "language_info": {
   "codemirror_mode": {
    "name": "ipython",
    "version": 3
   },
   "file_extension": ".py",
   "mimetype": "text/x-python",
   "name": "python",
   "nbconvert_exporter": "python",
   "pygments_lexer": "ipython3",
   "version": "3.7.8-final"
  },
  "orig_nbformat": 2,
  "kernelspec": {
   "name": "python_defaultSpec_1599586650512",
   "display_name": "Python 3.7.8 64-bit ('cobra': conda)"
  }
 },
 "nbformat": 4,
 "nbformat_minor": 2,
 "cells": [
  {
   "cell_type": "code",
   "execution_count": 1,
   "metadata": {
    "tags": []
   },
   "outputs": [
    {
     "output_type": "stream",
     "name": "stderr",
     "text": "'' is not a valid SBML 'SId'.\n'' is not a valid SBML 'SId'.\n'' is not a valid SBML 'SId'.\n"
    }
   ],
   "source": [
    "import cobra.test\n",
    "import cobra.io\n",
    "import pandas as pd\n",
    "cellulovorans=cobra.io.read_sbml_model(\"coculture_anaerobic/Clostridium cellulovorans 743B.xml\")\n",
    "Methanosarcina_barkeri=cobra.io.read_sbml_model(\"coculture_anaerobic/Methanosarcina mazei Go1.xml\")\n",
    "Methanosarcina_mazei=cobra.io.read_sbml_model(\"coculture_anaerobic/Methanosarcina barkeri str. Fusaro.xml\")"
   ]
  },
  {
   "cell_type": "code",
   "execution_count": 2,
   "metadata": {},
   "outputs": [
    {
     "output_type": "display_data",
     "data": {
      "text/plain": "<Model  at 0x7efc77cd1710>",
      "text/html": "\n        <table>\n            <tr>\n                <td><strong>Name</strong></td>\n                <td></td>\n            </tr><tr>\n                <td><strong>Memory address</strong></td>\n                <td>0x07efc77cd1710</td>\n            </tr><tr>\n                <td><strong>Number of metabolites</strong></td>\n                <td>817</td>\n            </tr><tr>\n                <td><strong>Number of reactions</strong></td>\n                <td>759</td>\n            </tr><tr>\n                <td><strong>Number of groups</strong></td>\n                <td>0</td>\n            </tr><tr>\n                <td><strong>Objective expression</strong></td>\n                <td>1.0*bio1_biomass - 1.0*bio1_biomass_reverse_6e711</td>\n            </tr><tr>\n                <td><strong>Compartments</strong></td>\n                <td>c0, e0</td>\n            </tr>\n          </table>"
     },
     "metadata": {}
    }
   ],
   "source": [
    "display(cellulovorans)"
   ]
  },
  {
   "cell_type": "code",
   "execution_count": 3,
   "metadata": {},
   "outputs": [
    {
     "output_type": "display_data",
     "data": {
      "text/plain": "<Model  at 0x7efcd7937a50>",
      "text/html": "\n        <table>\n            <tr>\n                <td><strong>Name</strong></td>\n                <td></td>\n            </tr><tr>\n                <td><strong>Memory address</strong></td>\n                <td>0x07efcd7937a50</td>\n            </tr><tr>\n                <td><strong>Number of metabolites</strong></td>\n                <td>621</td>\n            </tr><tr>\n                <td><strong>Number of reactions</strong></td>\n                <td>565</td>\n            </tr><tr>\n                <td><strong>Number of groups</strong></td>\n                <td>0</td>\n            </tr><tr>\n                <td><strong>Objective expression</strong></td>\n                <td>1.0*bio1_biomass - 1.0*bio1_biomass_reverse_6e711</td>\n            </tr><tr>\n                <td><strong>Compartments</strong></td>\n                <td>c0, e0</td>\n            </tr>\n          </table>"
     },
     "metadata": {}
    }
   ],
   "source": [
    "display(Methanosarcina_barkeri)"
   ]
  },
  {
   "cell_type": "code",
   "execution_count": 4,
   "metadata": {},
   "outputs": [
    {
     "output_type": "display_data",
     "data": {
      "text/plain": "<Model  at 0x7efcd7996550>",
      "text/html": "\n        <table>\n            <tr>\n                <td><strong>Name</strong></td>\n                <td></td>\n            </tr><tr>\n                <td><strong>Memory address</strong></td>\n                <td>0x07efcd7996550</td>\n            </tr><tr>\n                <td><strong>Number of metabolites</strong></td>\n                <td>633</td>\n            </tr><tr>\n                <td><strong>Number of reactions</strong></td>\n                <td>571</td>\n            </tr><tr>\n                <td><strong>Number of groups</strong></td>\n                <td>0</td>\n            </tr><tr>\n                <td><strong>Objective expression</strong></td>\n                <td>1.0*bio1_biomass - 1.0*bio1_biomass_reverse_6e711</td>\n            </tr><tr>\n                <td><strong>Compartments</strong></td>\n                <td>c0, e0</td>\n            </tr>\n          </table>"
     },
     "metadata": {}
    }
   ],
   "source": [
    "display(Methanosarcina_mazei)"
   ]
  },
  {
   "cell_type": "code",
   "execution_count": 5,
   "metadata": {
    "tags": []
   },
   "outputs": [
    {
     "output_type": "stream",
     "name": "stdout",
     "text": "O2_e0\nO2_e0\nO2_e0\n"
    }
   ],
   "source": [
    "# anaerobic\n",
    "print(cellulovorans.metabolites.get_by_id(\"cpd00007_e0\").name)\n",
    "print(Methanosarcina_barkeri.metabolites.get_by_id(\"cpd00007_e0\").name)\n",
    "print(Methanosarcina_mazei.metabolites.get_by_id(\"cpd00007_e0\").name)\n",
    "\n",
    "medium=cellulovorans.medium\n",
    "medium[\"EX_cpd00007_e0\"] = 0.0\n",
    "cellulovorans.medium=medium\n",
    "\n",
    "medium=Methanosarcina_barkeri.medium\n",
    "medium[\"EX_cpd00007_e0\"] = 0.0\n",
    "Methanosarcina_barkeri.medium=medium\n",
    "\n",
    "medium=Methanosarcina_mazei.medium\n",
    "medium[\"EX_cpd00007_e0\"] = 0.0\n",
    "Methanosarcina_mazei.medium=medium"
   ]
  },
  {
   "cell_type": "code",
   "execution_count": 6,
   "metadata": {},
   "outputs": [],
   "source": [
    "# output medium\n",
    "def getMediumContent(model):\n",
    "    df=pd.DataFrame()\n",
    "    for i in model.medium.keys():\n",
    "        compound=model.metabolites.get_by_id(i[3:])\n",
    "        df[i]=pd.Series({'Metabolite identifier': compound.id, 'Name':compound.name, \\\n",
    "            'Formula':compound.formula}) \n",
    "    return df.T\n",
    "getMediumContent(cellulovorans).to_csv(\"coculture_anaerobic/cellulovorans.medium.csv\")\n",
    "getMediumContent(Methanosarcina_barkeri).to_csv(\"coculture_anaerobic/Methanosarcina_barkeri.medium.csv\")\n",
    "getMediumContent(Methanosarcina_mazei).to_csv(\"coculture_anaerobic/Methanosarcina_mazei.medium.csv\")"
   ]
  },
  {
   "cell_type": "code",
   "execution_count": 7,
   "metadata": {},
   "outputs": [],
   "source": [
    "# output solution\n",
    "cellulovorans.optimize().to_frame().to_csv(\"coculture_anaerobic/cellulovorans.FBAsolution.csv\")\n",
    "Methanosarcina_barkeri.optimize().to_frame().to_csv(\"coculture_anaerobic/Methanosarcina_barkeri.FBAsolution.csv\")\n",
    "Methanosarcina_mazei.optimize().to_frame().to_csv(\"coculture_anaerobic/Methanosarcina_mazei.FBAsolution.csv\")\n",
    "# output solution detail\n",
    "def getSolutionDetail(model):\n",
    "    solution=model.optimize().to_frame()\n",
    "    df=pd.DataFrame()\n",
    "    for i in solution.index:\n",
    "        reaction=model.reactions.get_by_id(i)\n",
    "        df[i]=pd.Series({'Reaction identifier': reaction.id, \\\n",
    "            'Stoichiometry':reaction.build_reaction_string(use_metabolite_names=True), \\\n",
    "            'GPR':reaction.gene_name_reaction_rule}) \n",
    "    return df.T\n",
    "getSolutionDetail(cellulovorans).to_csv(\"coculture_anaerobic/cellulovorans.FBAsolution.detail.csv\")\n",
    "getSolutionDetail(Methanosarcina_barkeri).to_csv(\"coculture_anaerobic/Methanosarcina_barkeri.FBAsolution.detail.csv\")\n",
    "getSolutionDetail(Methanosarcina_mazei).to_csv(\"coculture_anaerobic/Methanosarcina_mazei.FBAsolution.detail.csv\")"
   ]
  },
  {
   "cell_type": "code",
   "execution_count": 8,
   "metadata": {},
   "outputs": [],
   "source": [
    "# output exchange fluxes summary\n",
    "cellulovorans.summary().to_frame().to_csv(\"coculture_anaerobic/cellulovorans.exchange_fluxes.csv\")\n",
    "Methanosarcina_barkeri.summary().to_frame().to_csv(\"coculture_anaerobic/Methanosarcina_barkeri.exchange_fluxes.csv\")\n",
    "Methanosarcina_mazei.summary().to_frame().to_csv(\"coculture_anaerobic/Methanosarcina_mazei.exchange_fluxes.csv\")\n",
    "# output solution detail\n",
    "def getSolutionDetail(model):\n",
    "    id=list(model.summary().to_frame().iloc[:, 0])\n",
    "    df=pd.DataFrame()\n",
    "    for i in id:\n",
    "        compound=model.metabolites.get_by_id(i)\n",
    "        df[i]=pd.Series({'Metabolite identifier': compound.id, 'Name':compound.name, \\\n",
    "            'Formula':compound.formula}) \n",
    "    return df.T\n",
    "getSolutionDetail(cellulovorans).to_csv(\"coculture_anaerobic/cellulovorans.exchange_fluxes.detail.csv\")\n",
    "getSolutionDetail(Methanosarcina_barkeri).to_csv(\"coculture_anaerobic/Methanosarcina_barkeri.exchange_fluxes.detail.csv\")\n",
    "getSolutionDetail(Methanosarcina_mazei).to_csv(\"coculture_anaerobic/Methanosarcina_mazei.exchange_fluxes.detail.csv\")"
   ]
  },
  {
   "cell_type": "code",
   "execution_count": null,
   "metadata": {},
   "outputs": [],
   "source": []
  }
 ]
}