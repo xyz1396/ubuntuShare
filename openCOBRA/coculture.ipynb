{
 "metadata": {
  "language_info": {
   "codemirror_mode": {
    "name": "ipython",
    "version": 3
   },
   "file_extension": ".py",
   "mimetype": "text/x-python",
   "name": "python",
   "nbconvert_exporter": "python",
   "pygments_lexer": "ipython3",
   "version": "3.7.8-final"
  },
  "orig_nbformat": 2,
  "kernelspec": {
   "name": "python_defaultSpec_1599542129107",
   "display_name": "Python 3.7.8 64-bit ('cobra': conda)"
  }
 },
 "nbformat": 4,
 "nbformat_minor": 2,
 "cells": [
  {
   "cell_type": "code",
   "execution_count": 8,
   "metadata": {
    "tags": []
   },
   "outputs": [],
   "source": [
    "import cobra.test\n",
    "import cobra.io\n",
    "import pandas as pd\n",
    "cellulovorans=cobra.io.read_sbml_model(\"Clostridium cellulovorans.xml\")\n",
    "Methanosarcina_barkeri=cobra.io.read_sbml_model(\"Methanosarcina barkeri str. Fusaro.xml\")\n",
    "Methanosarcina_mazei=cobra.io.read_sbml_model(\"Methanosarcina mazei Go1.xml\")"
   ]
  },
  {
   "cell_type": "code",
   "execution_count": null,
   "metadata": {},
   "outputs": [],
   "source": [
    "# "
   ]
  },
  {
   "cell_type": "code",
   "execution_count": 2,
   "metadata": {},
   "outputs": [
    {
     "output_type": "display_data",
     "data": {
      "text/plain": "<Model methane at 0x7fbd3392fc50>",
      "text/html": "\n        <table>\n            <tr>\n                <td><strong>Name</strong></td>\n                <td>methane</td>\n            </tr><tr>\n                <td><strong>Memory address</strong></td>\n                <td>0x07fbd3392fc50</td>\n            </tr><tr>\n                <td><strong>Number of metabolites</strong></td>\n                <td>824</td>\n            </tr><tr>\n                <td><strong>Number of reactions</strong></td>\n                <td>762</td>\n            </tr><tr>\n                <td><strong>Number of groups</strong></td>\n                <td>0</td>\n            </tr><tr>\n                <td><strong>Objective expression</strong></td>\n                <td>1.0*bio1_biomass - 1.0*bio1_biomass_reverse_6e711</td>\n            </tr><tr>\n                <td><strong>Compartments</strong></td>\n                <td>c0, e0</td>\n            </tr>\n          </table>"
     },
     "metadata": {}
    }
   ],
   "source": [
    "display(cellulovorans)"
   ]
  },
  {
   "cell_type": "code",
   "execution_count": 3,
   "metadata": {},
   "outputs": [
    {
     "output_type": "display_data",
     "data": {
      "text/plain": "<Model  at 0x7fbd93c54dd0>",
      "text/html": "\n        <table>\n            <tr>\n                <td><strong>Name</strong></td>\n                <td></td>\n            </tr><tr>\n                <td><strong>Memory address</strong></td>\n                <td>0x07fbd93c54dd0</td>\n            </tr><tr>\n                <td><strong>Number of metabolites</strong></td>\n                <td>660</td>\n            </tr><tr>\n                <td><strong>Number of reactions</strong></td>\n                <td>596</td>\n            </tr><tr>\n                <td><strong>Number of groups</strong></td>\n                <td>0</td>\n            </tr><tr>\n                <td><strong>Objective expression</strong></td>\n                <td>1.0*bio1_biomass - 1.0*bio1_biomass_reverse_6e711</td>\n            </tr><tr>\n                <td><strong>Compartments</strong></td>\n                <td>c0, e0</td>\n            </tr>\n          </table>"
     },
     "metadata": {}
    }
   ],
   "source": [
    "display(Methanosarcina_barkeri)"
   ]
  },
  {
   "cell_type": "code",
   "execution_count": 4,
   "metadata": {},
   "outputs": [
    {
     "output_type": "display_data",
     "data": {
      "text/plain": "<Model  at 0x7fbd937e1ed0>",
      "text/html": "\n        <table>\n            <tr>\n                <td><strong>Name</strong></td>\n                <td></td>\n            </tr><tr>\n                <td><strong>Memory address</strong></td>\n                <td>0x07fbd937e1ed0</td>\n            </tr><tr>\n                <td><strong>Number of metabolites</strong></td>\n                <td>652</td>\n            </tr><tr>\n                <td><strong>Number of reactions</strong></td>\n                <td>594</td>\n            </tr><tr>\n                <td><strong>Number of groups</strong></td>\n                <td>0</td>\n            </tr><tr>\n                <td><strong>Objective expression</strong></td>\n                <td>1.0*bio1_biomass - 1.0*bio1_biomass_reverse_6e711</td>\n            </tr><tr>\n                <td><strong>Compartments</strong></td>\n                <td>c0, e0</td>\n            </tr>\n          </table>"
     },
     "metadata": {}
    }
   ],
   "source": [
    "display(Methanosarcina_mazei)"
   ]
  },
  {
   "cell_type": "code",
   "execution_count": 5,
   "metadata": {},
   "outputs": [],
   "source": [
    "# output medium\n",
    "def getMediumContent(model):\n",
    "    df=pd.DataFrame()\n",
    "    for i in model.medium.keys():\n",
    "        compound=model.metabolites.get_by_id(i[3:])\n",
    "        df[i]=pd.Series({'Metabolite identifier': compound.id, 'Name':compound.name, \\\n",
    "            'Formula':compound.formula}) \n",
    "    return df\n",
    "getMediumContent(cellulovorans).to_csv(\"cellulovorans.medium.csv\")\n",
    "getMediumContent(Methanosarcina_barkeri).to_csv(\"Methanosarcina_barkeri.medium.csv\")\n",
    "getMediumContent(Methanosarcina_mazei).to_csv(\"Methanosarcina_mazei.medium.csv\")\n"
   ]
  },
  {
   "cell_type": "code",
   "execution_count": 6,
   "metadata": {},
   "outputs": [],
   "source": [
    "# output solution\n",
    "cellulovorans.optimize().to_frame().to_csv(\"cellulovorans.FBAsolution.csv\")\n",
    "Methanosarcina_barkeri.optimize().to_frame().to_csv(\"Methanosarcina_barkeri.FBAsolution.csv\")\n",
    "Methanosarcina_mazei.optimize().to_frame().to_csv(\"Methanosarcina_mazei.FBAsolution.csv\")\n",
    "# output solution detail\n",
    "def getSolutionDetail(model):\n",
    "    solution=model.optimize().to_frame()\n",
    "    df=pd.DataFrame()\n",
    "    for i in solution.index:\n",
    "        reaction=model.reactions.get_by_id(i)\n",
    "        df[i]=pd.Series({'Reaction identifier': reaction.id, \\\n",
    "            'Stoichiometry':reaction.build_reaction_string(use_metabolite_names=True), \\\n",
    "            'GPR':reaction.gene_name_reaction_rule}) \n",
    "    return df.T\n",
    "getSolutionDetail(cellulovorans).to_csv(\"cellulovorans.FBAsolution.detail.csv\")\n",
    "getSolutionDetail(Methanosarcina_barkeri).to_csv(\"Methanosarcina_barkeri.FBAsolution.detail.csv\")\n",
    "getSolutionDetail(Methanosarcina_mazei).to_csv(\"Methanosarcina_mazei.FBAsolution.detail.csv\")\n",
    "\n",
    "\n",
    "\n"
   ]
  },
  {
   "cell_type": "code",
   "execution_count": 7,
   "metadata": {},
   "outputs": [],
   "source": [
    "# output exchange fluxes summary\n",
    "cellulovorans.summary().to_frame().to_csv(\"cellulovorans.exchange_fluxes.csv\")\n",
    "Methanosarcina_barkeri.summary().to_frame().to_csv(\"Methanosarcina_barkeri.exchange_fluxes.csv\")\n",
    "Methanosarcina_mazei.summary().to_frame().to_csv(\"Methanosarcina_mazei.exchange_fluxes.csv\")\n",
    "# output solution detail\n",
    "def getSolutionDetail(model):\n",
    "    id=list(model.summary().to_frame().iloc[:, 0])\n",
    "    df=pd.DataFrame()\n",
    "    for i in id:\n",
    "        compound=model.metabolites.get_by_id(i)\n",
    "        df[i]=pd.Series({'Metabolite identifier': compound.id, 'Name':compound.name, \\\n",
    "            'Formula':compound.formula}) \n",
    "    return df.T\n",
    "getSolutionDetail(cellulovorans).to_csv(\"cellulovorans.exchange_fluxes.detail.csv\")\n",
    "getSolutionDetail(Methanosarcina_barkeri).to_csv(\"Methanosarcina_barkeri.exchange_fluxes.detail.csv\")\n",
    "getSolutionDetail(Methanosarcina_mazei).to_csv(\"Methanosarcina_mazei.exchange_fluxes.detail.csv\")"
   ]
  },
  {
   "cell_type": "code",
   "execution_count": null,
   "metadata": {},
   "outputs": [],
   "source": []
  }
 ]
}