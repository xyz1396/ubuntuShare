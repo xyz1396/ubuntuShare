{
 "metadata": {
  "language_info": {
   "codemirror_mode": {
    "name": "ipython",
    "version": 3
   },
   "file_extension": ".py",
   "mimetype": "text/x-python",
   "name": "python",
   "nbconvert_exporter": "python",
   "pygments_lexer": "ipython3",
   "version": "3.7.8-final"
  },
  "orig_nbformat": 2,
  "kernelspec": {
   "name": "python37864bitcobracondaed00814d343142acbdd2a5d3f7145d90",
   "display_name": "Python 3.7.8 64-bit ('cobra': conda)"
  }
 },
 "nbformat": 4,
 "nbformat_minor": 2,
 "cells": [
  {
   "cell_type": "markdown",
   "metadata": {},
   "source": [
    "# Ecoli demo\n",
    "\n",
    "[biomodels database](https://www.ebi.ac.uk/biomodels/)"
   ]
  },
  {
   "cell_type": "code",
   "execution_count": 9,
   "metadata": {},
   "outputs": [
    {
     "output_type": "display_data",
     "data": {
      "text/plain": "<Model iJO1366 at 0x7ffaa5d01810>",
      "text/html": "\n        <table>\n            <tr>\n                <td><strong>Name</strong></td>\n                <td>iJO1366</td>\n            </tr><tr>\n                <td><strong>Memory address</strong></td>\n                <td>0x07ffaa5d01810</td>\n            </tr><tr>\n                <td><strong>Number of metabolites</strong></td>\n                <td>1805</td>\n            </tr><tr>\n                <td><strong>Number of reactions</strong></td>\n                <td>2583</td>\n            </tr><tr>\n                <td><strong>Number of groups</strong></td>\n                <td>37</td>\n            </tr><tr>\n                <td><strong>Objective expression</strong></td>\n                <td>1.0*BIOMASS_Ec_iJO1366_core_53p95M - 1.0*BIOMASS_Ec_iJO1366_core_53p95M_reverse_5c8b1</td>\n            </tr><tr>\n                <td><strong>Compartments</strong></td>\n                <td>cytosol, extracellular space, periplasm</td>\n            </tr>\n          </table>"
     },
     "metadata": {}
    }
   ],
   "source": [
    "# import model\n",
    "import cobra.test\n",
    "model=cobra.test.create_test_model(\"ecoli\")\n",
    "display(model)"
   ]
  },
  {
   "cell_type": "code",
   "execution_count": 13,
   "metadata": {
    "tags": []
   },
   "outputs": [
    {
     "output_type": "stream",
     "name": "stdout",
     "text": "all__D_c:D-Allose\nfru_c:D-Fructose\ngal_c:D-Galactose\nglc__D_c:D-Glucose\ninost_c:Myo-Inositol\nman_c:D-Mannose\nall__D_e:D-Allose\nfru_e:D-Fructose\ngal_e:D-Galactose\ngal_bD_e:Beta D-Galactose\nglc__D_e:D-Glucose\ninost_e:Myo-Inositol\nman_e:D-Mannose\nall__D_p:D-Allose\nfru_p:D-Fructose\ngal_p:D-Galactose\ngal_bD_p:Beta D-Galactose\nglc__D_p:D-Glucose\ninost_p:Myo-Inositol\nman_p:D-Mannose\n"
    }
   ],
   "source": [
    "# search metabolites: glucose\n",
    "for x in model.metabolites:\n",
    "    if x.formula == \"C6H12O6\":\n",
    "        print(x.id,\":\",x.name,sep=\"\")"
   ]
  },
  {
   "cell_type": "code",
   "execution_count": 16,
   "metadata": {
    "tags": []
   },
   "outputs": [
    {
     "output_type": "display_data",
     "data": {
      "text/plain": "<Reaction PGI at 0x7ffaff0f0c10>",
      "text/html": "\n        <table>\n            <tr>\n                <td><strong>Reaction identifier</strong></td><td>PGI</td>\n            </tr><tr>\n                <td><strong>Name</strong></td><td>Glucose-6-phosphate isomerase</td>\n            </tr><tr>\n                <td><strong>Memory address</strong></td>\n                <td>0x07ffaff0f0c10</td>\n            </tr><tr>\n                <td><strong>Stoichiometry</strong></td>\n                <td>\n                    <p style='text-align:right'>g6p_c <=> f6p_c</p>\n                    <p style='text-align:right'>D-Glucose 6-phosphate <=> D-Fructose 6-phosphate</p>\n                </td>\n            </tr><tr>\n                <td><strong>GPR</strong></td><td>b4025</td>\n            </tr><tr>\n                <td><strong>Lower bound</strong></td><td>-1000.0</td>\n            </tr><tr>\n                <td><strong>Upper bound</strong></td><td>1000.0</td>\n            </tr>\n        </table>\n        "
     },
     "metadata": {}
    },
    {
     "output_type": "stream",
     "name": "stdout",
     "text": "GLCATr | D-glucose O-acetyltransferase | accoa_c + glc__D_c <=> acglc__D_c + coa_c\nHEX1 | Hexokinase (D-glucose:ATP) | atp_c + glc__D_c --> adp_c + g6p_c + h_c\nXYLI2 | Xylose isomerase | glc__D_c <=> fru_c\n"
    }
   ],
   "source": [
    "# PGI reaction: converts D-glucose 6-phosphate into D-fructose 6-phosphate\n",
    "pgi = model.reactions.get_by_id(\"PGI\")\n",
    "display(pgi)\n"
   ]
  },
  {
   "cell_type": "code",
   "execution_count": 17,
   "metadata": {
    "tags": []
   },
   "outputs": [
    {
     "output_type": "stream",
     "name": "stdout",
     "text": "GLCATr | D-glucose O-acetyltransferase | accoa_c + glc__D_c <=> acglc__D_c + coa_c\nHEX1 | Hexokinase (D-glucose:ATP) | atp_c + glc__D_c --> adp_c + g6p_c + h_c\nXYLI2 | Xylose isomerase | glc__D_c <=> fru_c\n"
    }
   ],
   "source": [
    "# search reactions involving glucose\n",
    "glucose = model.metabolites.get_by_id(\"glc__D_c\")\n",
    "for r in model.reactions:\n",
    "    if glucose in r.reactants:\n",
    "        print(r.id,\"|\",r.name,\"|\",r.build_reaction_string())"
   ]
  }
 ]
}